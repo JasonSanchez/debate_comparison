{
 "cells": [
  {
   "cell_type": "code",
   "execution_count": 1,
   "metadata": {},
   "outputs": [
    {
     "name": "stdout",
     "output_type": "stream",
     "text": [
      "[nltk_data] Downloading package punkt to\n",
      "[nltk_data]     C:\\Users\\Sanchez\\AppData\\Roaming\\nltk_data...\n",
      "[nltk_data]   Package punkt is already up-to-date!\n",
      "[nltk_data] Downloading package averaged_perceptron_tagger to\n",
      "[nltk_data]     C:\\Users\\Sanchez\\AppData\\Roaming\\nltk_data...\n",
      "[nltk_data]   Package averaged_perceptron_tagger is already up-to-\n",
      "[nltk_data]       date!\n"
     ]
    },
    {
     "data": {
      "text/plain": [
       "True"
      ]
     },
     "execution_count": 1,
     "metadata": {},
     "output_type": "execute_result"
    }
   ],
   "source": [
    "%matplotlib inline\n",
    "\n",
    "import matplotlib.pyplot as plt\n",
    "import pandas as pd\n",
    "import numpy as np\n",
    "from os import listdir\n",
    "from sklearn.preprocessing import StandardScaler\n",
    "from sklearn.metrics import roc_auc_score, accuracy_score\n",
    "from sklearn.ensemble import RandomForestClassifier, ExtraTreesClassifier, GradientBoostingClassifier\n",
    "from sklearn.linear_model import LogisticRegression\n",
    "from sklearn.svm import SVC\n",
    "from sklearn.neighbors import KNeighborsClassifier\n",
    "from sklearn.base import BaseEstimator, TransformerMixin\n",
    "from sklearn.model_selection import LeaveOneGroupOut, cross_val_score, cross_val_predict\n",
    "from sklearn.pipeline import Pipeline\n",
    "from nltk import word_tokenize, pos_tag, download\n",
    "\n",
    "download('punkt')\n",
    "download('averaged_perceptron_tagger')"
   ]
  },
  {
   "cell_type": "markdown",
   "metadata": {},
   "source": [
    "Read in data"
   ]
  },
  {
   "cell_type": "code",
   "execution_count": 2,
   "metadata": {},
   "outputs": [
    {
     "data": {
      "text/html": [
       "<div>\n",
       "<style>\n",
       "    .dataframe thead tr:only-child th {\n",
       "        text-align: right;\n",
       "    }\n",
       "\n",
       "    .dataframe thead th {\n",
       "        text-align: left;\n",
       "    }\n",
       "\n",
       "    .dataframe tbody tr th {\n",
       "        vertical-align: top;\n",
       "    }\n",
       "</style>\n",
       "<table border=\"1\" class=\"dataframe\">\n",
       "  <thead>\n",
       "    <tr style=\"text-align: right;\">\n",
       "      <th></th>\n",
       "      <th>#id</th>\n",
       "      <th>label</th>\n",
       "      <th>a1</th>\n",
       "      <th>a2</th>\n",
       "      <th>argument_group</th>\n",
       "    </tr>\n",
       "  </thead>\n",
       "  <tbody>\n",
       "    <tr>\n",
       "      <th>0</th>\n",
       "      <td>arg219237_arg219207</td>\n",
       "      <td>a2</td>\n",
       "      <td>jesus loves plastic water bottles, and you can...</td>\n",
       "      <td>Bottled water consumption has grown exponentia...</td>\n",
       "      <td>ban-plastic-water-bottles_no-bad-for-the-econo...</td>\n",
       "    </tr>\n",
       "    <tr>\n",
       "      <th>1</th>\n",
       "      <td>arg219203_arg219206</td>\n",
       "      <td>a2</td>\n",
       "      <td>The American Water companies are Aquafina (Pep...</td>\n",
       "      <td>Americans spend billions on bottled water ever...</td>\n",
       "      <td>ban-plastic-water-bottles_no-bad-for-the-econo...</td>\n",
       "    </tr>\n",
       "    <tr>\n",
       "      <th>2</th>\n",
       "      <td>arg219225_arg219284</td>\n",
       "      <td>a1</td>\n",
       "      <td>Banning plastic bottled water would be a huge ...</td>\n",
       "      <td>God created water bottles for a reason. Becaus...</td>\n",
       "      <td>ban-plastic-water-bottles_no-bad-for-the-econo...</td>\n",
       "    </tr>\n",
       "    <tr>\n",
       "      <th>3</th>\n",
       "      <td>arg219216_arg219207</td>\n",
       "      <td>a2</td>\n",
       "      <td>The water bottles are a safe source of water a...</td>\n",
       "      <td>Bottled water consumption has grown exponentia...</td>\n",
       "      <td>ban-plastic-water-bottles_no-bad-for-the-econo...</td>\n",
       "    </tr>\n",
       "    <tr>\n",
       "      <th>4</th>\n",
       "      <td>arg219207_arg219294</td>\n",
       "      <td>a1</td>\n",
       "      <td>Bottled water consumption has grown exponentia...</td>\n",
       "      <td>If bottled water did not exist, more people wo...</td>\n",
       "      <td>ban-plastic-water-bottles_no-bad-for-the-econo...</td>\n",
       "    </tr>\n",
       "  </tbody>\n",
       "</table>\n",
       "</div>"
      ],
      "text/plain": [
       "                   #id label  \\\n",
       "0  arg219237_arg219207    a2   \n",
       "1  arg219203_arg219206    a2   \n",
       "2  arg219225_arg219284    a1   \n",
       "3  arg219216_arg219207    a2   \n",
       "4  arg219207_arg219294    a1   \n",
       "\n",
       "                                                  a1  \\\n",
       "0  jesus loves plastic water bottles, and you can...   \n",
       "1  The American Water companies are Aquafina (Pep...   \n",
       "2  Banning plastic bottled water would be a huge ...   \n",
       "3  The water bottles are a safe source of water a...   \n",
       "4  Bottled water consumption has grown exponentia...   \n",
       "\n",
       "                                                  a2  \\\n",
       "0  Bottled water consumption has grown exponentia...   \n",
       "1  Americans spend billions on bottled water ever...   \n",
       "2  God created water bottles for a reason. Becaus...   \n",
       "3  Bottled water consumption has grown exponentia...   \n",
       "4  If bottled water did not exist, more people wo...   \n",
       "\n",
       "                                      argument_group  \n",
       "0  ban-plastic-water-bottles_no-bad-for-the-econo...  \n",
       "1  ban-plastic-water-bottles_no-bad-for-the-econo...  \n",
       "2  ban-plastic-water-bottles_no-bad-for-the-econo...  \n",
       "3  ban-plastic-water-bottles_no-bad-for-the-econo...  \n",
       "4  ban-plastic-water-bottles_no-bad-for-the-econo...  "
      ]
     },
     "execution_count": 2,
     "metadata": {},
     "output_type": "execute_result"
    }
   ],
   "source": [
    "path_to_compare_data_1 = \"data/UKPConvArg1Strict-CSV/\"\n",
    "\n",
    "files = listdir(path_to_compare_data_1)\n",
    "\n",
    "all_data = []\n",
    "\n",
    "for f in files:\n",
    "    path = path_to_compare_data_1 + f\n",
    "    one_argument = pd.read_csv(path, sep=\"\\t\")\n",
    "    one_argument[\"argument_group\"] = f\n",
    "    all_data.append(one_argument)\n",
    "    \n",
    "X_raw = pd.concat(all_data).reset_index(drop=True)\n",
    "X_raw.head()"
   ]
  },
  {
   "cell_type": "code",
   "execution_count": 3,
   "metadata": {},
   "outputs": [
    {
     "data": {
      "text/plain": [
       "0    a2\n",
       "1    a2\n",
       "2    a1\n",
       "3    a2\n",
       "4    a1\n",
       "Name: label, dtype: object"
      ]
     },
     "execution_count": 3,
     "metadata": {},
     "output_type": "execute_result"
    }
   ],
   "source": [
    "y_raw = X_raw.pop(\"label\")\n",
    "y_raw.head()"
   ]
  },
  {
   "cell_type": "markdown",
   "metadata": {},
   "source": [
    "Create base dataset. Make y an integer and rename the arguments to use zero-based indexing."
   ]
  },
  {
   "cell_type": "code",
   "execution_count": 4,
   "metadata": {},
   "outputs": [
    {
     "name": "stdout",
     "output_type": "stream",
     "text": [
      "Wall time: 1min 23s\n"
     ]
    }
   ],
   "source": [
    "%%time\n",
    "y = (y_raw == \"a2\").astype(int)\n",
    "X = X_raw.drop([\"#id\"], axis=1)\n",
    "X.columns = [\"a0\", \"a1\", \"argument_group\"]\n",
    "\n",
    "def sentence_tags(text):\n",
    "#     text = text.decode('utf-8')\n",
    "    tags = pos_tag(word_tokenize(text))\n",
    "    only_tags = [t[1] for t in tags]\n",
    "    return \" \".join(only_tags)\n",
    "\n",
    "X[\"a0_tags\"] = X.a0.apply(sentence_tags)\n",
    "X[\"a1_tags\"] = X.a1.apply(sentence_tags)\n",
    "\n",
    "X.head()"
   ]
  },
  {
   "cell_type": "code",
   "execution_count": 5,
   "metadata": {},
   "outputs": [
    {
     "data": {
      "text/plain": [
       "0    1\n",
       "1    1\n",
       "2    0\n",
       "3    1\n",
       "4    0\n",
       "Name: label, dtype: int32"
      ]
     },
     "execution_count": 5,
     "metadata": {},
     "output_type": "execute_result"
    }
   ],
   "source": [
    "y.head()"
   ]
  },
  {
   "cell_type": "markdown",
   "metadata": {},
   "source": [
    "Build a benchmark model as fast as possible."
   ]
  },
  {
   "cell_type": "code",
   "execution_count": 6,
   "metadata": {
    "collapsed": true
   },
   "outputs": [],
   "source": [
    "transition_words = set(['similarly', 'foremost', 'presumably', 'moreover', 'however', 'reason', 'otherwise', 'second,', 'still', 'first', 'even', 'ultimately', 'finally', 'therefore', 'addition', 'next', 'also', 'furthermore', 'conclusion', 'third', 'hand', 'another'])\n",
    "misspelled_words = set(['wouldn', 'dont', 'shouldn', 'india', 'firefox', 'didn', 'wouldnt', 'doesnt', 'thier', 'farquhar', 'couldn', 'commited', 'adam', 'theyre', 'sabrejimmy', 'persuit', 'definately', 'shouldnt', 'marrage', 'syona', 'alot', 'beleive', 'donot', 'commen', 'especialy', 'dicipline', 'arguement', 'likley', 'lously', 'havn', 'alcohlic', 'wasnt', 'aint', 'bcoz', 'hace', 'decir', 'planta', 'politian', 'acomplice', 'definetly', 'incestual', 'chasbas', 'soooo', 'coolio', 'hoolio', 'infront', 'creatoinism', 'enviroment', 'hasn', 'becasue', 'farquer', 'xada', 'atrever', 'menos', 'dathu', 'ihfej', 'humano', 'charector', 'blimem', 'shld', 'urself', 'tijkjdrk', 'sholud', 'jarman', 'responsibilily', 'preverted', 'plantas', 'aunque', 'sayin', 'xadgeno', 'imformation', 'xbanico', 'sfjiiytg', 'negleted', 'chupar', 'guil', 'xtklp', 'incharge', 'telvisions', 'telivision', 'igual', 'recursos', 'ushould', 'thik', 'supress', 'querido', 'idioma', 'unforms', 'unatrel', 'cauntious', 'evrybdy', 'bookxx', 'beleifs', 'eles', 'completly', 'isnot', 'beleave', 'beter', 'llaman', 'wdout', 'smoken', 'facr', 'illegaly', 'nowadayz', 'doont', 'somkers', 'somke', 'responsiblity', 'homosapien', 'dissappointed', 'criterium', 'hets', 'doughter', 'posible', 'strategizing', 'succeful', 'probaly', 'atleast', 'beileve', 'vida', 'pero', 'mench', 'playstations', 'niega', 'importhant', 'pensar', 'sentir', 'puede', 'aslong', 'ciggarettes', 'sooooooo', 'ebil', 'sito', 'botherd', 'diegnosedca', 'humanos', 'animales', 'suelen', 'aborto', 'matar', 'bullsh', 'employe', 'evryone', 'benifit', 'enviorment', 'lookin', 'persue', 'diffenrent', 'embroyo', 'undertsand', 'interveiw', 'becouse', 'afterschool', 'diferent', 'highschool', 'alreaddy', 'leagal', 'unpetty', 'themselfs', 'yoursel', 'defenceless', 'absolutley', 'peices', 'advencing', 'isnt', 'inequal', 'instinc', 'succesful', 'insctinc', 'disapointment', 'organisation', 'beemed', 'succeded', 'woulld', 'excuss', 'chil', 'singapura', 'majulah', 'mothernature', 'wannna', 'compulsaryy', 'preggo', 'weren', 'dieases', 'relize', 'coloured', 'actualy', 'expirience', 'itll', 'obecity', 'personhood', 'dosent', 'clases', 'mandortory', 'excersise', 'whloe', 'manditory', 'howzz', 'definatley', 'expirence', 'benifits', 'licence', 'echoworld', 'lieing', 'othr', 'alow', 'overal', 'theri', 'stoping', 'selfes', 'becoz', 'mmorning', 'mustn', 'espeacilly', 'perfomed', 'exersises', 'thankyou', 'dreamt', 'theirself', 'cuhz', 'learnt', 'malay', 'proble', 'wether', 'newscientist', 'evealution', 'makind', 'beleivers', 'argumentum', 'populum', 'extreamly', 'callad', 'beleives', 'scientologists', 'aquire', 'existance', 'addons', 'fanboy', 'realeased', 'wayyyyy', 'pointlessss', 'enititys', 'microsot', 'stylesheets', 'google', 'toolbar', 'phro', 'tohttp', 'evol', 'dinosauria', 'neccisary', 'varifiable', 'usgs', 'envirnment', 'nuff', 'polandspring', 'aspx', 'duboard', 'criters', 'worryz', 'excrament', 'produceing', 'evironment', 'poluted', 'healthywater', 'hypocryte', 'friendsjournal', 'garentee', 'compostable', 'youre', 'serval', 'comfortabley', 'suply', 'nikawater', 'nestlewaterscorporate', 'equis', 'ditrabutions', 'treehugger', 'extremly', 'weve', 'aynrandlexicon', 'flipppin', 'belivers', 'religon', 'biggots', 'athieists', 'besause', 'indepent', 'healp', 'lawl', 'sunday', 'spamming', 'therfore', 'recognise', 'simplier', 'didnt', 'xafsm', 'disputs', 'superbrain', 'politians', 'hitech', 'illitrate', 'literated', 'enought', 'specialy', 'fricken', 'opressed', 'illeteracy', 'toughy', 'somone', 'muder', 'marrie', 'sombody', 'accompalice', 'incase', 'hurst', 'basicly', 'preffer', 'nothong', 'tounges', 'contries', 'forgeting', 'ndians', 'hardwork', 'languags', 'utillised', 'prsns', 'ptential', 'manufactoring', 'dependant', 'alawys', 'violance', 'dissapointed', 'tought', 'figuer', 'msitake', 'arent', 'ooooooooh', 'sush', 'differnce', 'wats', 'aryabhatta', 'chatng', 'debatng', 'partical', 'pottential', 'nuissance', 'nalanda', 'jagah', 'achcha', 'hamara', 'britishers', 'orginal', 'americans', 'rama', 'krishna', 'vishvamitr', 'vishvguru', 'francisco', 'nutjobes', 'certainley', 'needn', 'roomates', 'marraige', 'secuality', 'respecful', 'harrassed', 'veiws', 'centry', 'commiting', 'beacuse', 'adware', 'nobrob', 'enuff', 'preinstall', 'derrrr', 'imho', 'weatherfox', 'apps', 'novanet', 'perfrom', 'popup', 'avaible', 'tooltip', 'spaking', 'saame', 'butthole', 'belifs', 'eachother', 'hackman', 'involed', 'throught', 'defence', 'worng', 'couldnt', 'reponsiblity', 'wong', 'woppen', 'nessasary', 'prenup', 'becuase', 'liklihood', 'couse', 'contriverse', 'accomodate', 'extrem', 'pepole', 'accomodations', 'sucied', 'wakoness', 'absoultly'])\n",
    "slang_words = set(['creep', 'jerk', 'basic', 'wicked', 'diss', 'props', 'unreal', 'dig', 'ripped', 'swole', 'wrecked', 'wasted', 'busted', 'awesome', 'trip', 'cool', 'chilling', 'chill', 'amped', 'blast', 'crush', 'dump', 'geek', 'sick', 'toasted', 'fail', 'epic', 'dunno', 'loser', 'rip', 'off', 'beat', 'bling', 'break', 'cheesy', 'cop', 'out', 'da', 'bomb', 'dope', 'downer', 'fab', 'flake', 'freak', 'disgusting', 'hooked', 'fleet', 'flawless', 'snatched', 'shorty', 'grill', 'hustle', 'grind', 'beef', 'fresh', 'word', 'wack', 'def', 'skeeze', 'ill', 'dough', 'mooch', 'boo', 'baller', 'bromance', 'dawg', 'dude', 'lol', 'ratchet', 'selfie', 'sweet', 'woke', 'neat', 'kidding', 'agame', 'bro', 'cash', 'cop', 'hip', 'jacked', 'hype', 'score', 'trash', 'riled', 'pissed', 'bummer', 'check', 'dead', 'totes'])\n",
    "important_parts_of_speech = [\"vbp\", \"vbp prp\", \"nn nn\", \"to\", \"dt\", \"dt nn\", \"cc\"]\n",
    "\n",
    "\n",
    "def n_general_transitions(x):\n",
    "    words = x.split()\n",
    "    total = 0\n",
    "    for w in words:\n",
    "        if w in transition_words:\n",
    "            total += 1\n",
    "    return total\n",
    "\n",
    "\n",
    "def n_misspelled_words(x):\n",
    "    words = x.split()\n",
    "    total = 0\n",
    "    for w in words:\n",
    "        if w in misspelled_words:\n",
    "            total += 1\n",
    "    return total\n",
    "\n",
    "\n",
    "def n_slang_words(x):\n",
    "    words = x.split()\n",
    "    total = 0\n",
    "    for w in words:\n",
    "        if w in slang_words:\n",
    "            total += 1\n",
    "    return total\n",
    "\n",
    "def percent_unique(x):\n",
    "    words = x.split()\n",
    "    unique = set(words)\n",
    "    percent_unique = len(unique)/len(words)\n",
    "    return percent_unique\n",
    "\n",
    "\n",
    "class TextBasedFeatures(BaseEstimator, TransformerMixin):\n",
    "    def __init__(self):\n",
    "        pass\n",
    "    \n",
    "    def fit(self, X, y):\n",
    "        return self\n",
    "    \n",
    "    def transform(self, X, y=None):\n",
    "        X = X.copy()\n",
    "        a0_raw = X.a0\n",
    "        a1_raw = X.a1\n",
    "        a0_simple = a0_raw.str.lower().str.replace(\"[^a-zA-Z ]\", \"\")\n",
    "        a1_simple = a1_raw.str.lower().str.replace(\"[^a-zA-Z ]\", \"\")\n",
    "        a0 = a0_simple.str\n",
    "        a1 = a1_simple.str\n",
    "        \n",
    "        # a0 features\n",
    "        X[\"characters_a0\"] = a0.len()\n",
    "        X[\"pronoun_counts_a0\"] = a0.count(\" you \") + a0.count(\" i \") + a0.count(\" me \") + a0.count(\" my \")\n",
    "        X[\"certain_lang_counts_a0\"] = a0.count(\" always \") + a0.count(\" never \") + a0.count(\" impossible \")\n",
    "        X[\"uncertain_lang_counts_a0\"] = a0.count(\" believe \") + a0.count(\" think \") + a0.count(\" feel \")\n",
    "        X[\"bold_counts_a0\"] = a0_raw.str.count(\"<br/>\")\n",
    "        X[\"because_counts_a0\"] = a0_raw.str.count(\"because\")\n",
    "        X[\"quote_counts_a0\"] = a0_raw.str.count(\"[\\\"']\")\n",
    "        X[\"comma_counts_a0\"] = a0_raw.str.count(\",\")\n",
    "        X[\"words_a0\"] = a0.count(\" \") + 1\n",
    "        X[\"total_punctuation_a0\"] = a0_raw.str.count(\"[.,?$!:;'\\\"-]\")\n",
    "        X[\"punctuation_percent_a0\"] = X[\"total_punctuation_a0\"]/X[\"characters_a0\"]\n",
    "        X[\"end_of_sentence_punct_counts_a0\"] = a0_raw.str.count(\"[!?.][ \\n]\")\n",
    "        X[\"no_sentence_punctuation_a0\"] = (X[\"end_of_sentence_punct_counts_a0\"]==0).astype(int)\n",
    "        X[\"sentence_counts_a0\"] = X[\"end_of_sentence_punct_counts_a0\"] + X[\"no_sentence_punctuation_a0\"]\n",
    "        X[\"average_sentence_word_len_a0\"] = X[\"words_a0\"]/X[\"sentence_counts_a0\"]\n",
    "        X[\"average_sentence_char_len_a0\"] = X[\"characters_a0\"]/X[\"sentence_counts_a0\"]\n",
    "        X[\"average_word_length_a0\"] = X[\"characters_a0\"]/X[\"words_a0\"]\n",
    "        X[\"n_transitions_a0\"] = a0_simple.apply(n_general_transitions)\n",
    "        X[\"n_misspelled_a0\"] = a0_simple.apply(n_misspelled_words)\n",
    "        X[\"n_slang_words_a0\"] = a0_simple.apply(n_slang_words)\n",
    "        X[\"percent_words_unique_a0\"] = a0_simple.apply(percent_unique)\n",
    "        X[\"first_word_capitalized_a0\"] = a0_raw.apply(lambda x: x[0].isupper()*1)\n",
    "        X[\"n_proper_nouns_a0\"] = a0_raw.str.count(\"[^.!?;] [A-Z]\")\n",
    "        X[\"all_caps_words_a0\"] = a0_raw.str.count(\"[A-Z]+[ .!?]\")\n",
    "        X[\"n_digits_a0\"] = a0_raw.apply(lambda x: sum(1 for c in x if c.isdigit()))\n",
    "        X[\"n_links_a0\"] = a0_raw.str.count(\"http\")\n",
    "        X[\"vbp_a0\"] = X.a0_tags.str.count(\"VBP\")\n",
    "        X[\"vbp_prp_a0\"] = X.a0_tags.str.count(\"VBP PRP\")\n",
    "        X[\"nn_nn_a0\"] = X.a0_tags.str.count(\"NN NN\")\n",
    "        X[\"to_a0\"] = X.a0_tags.str.count(\"TO\")\n",
    "        X[\"dt_a0\"] = X.a0_tags.str.count(\"DT\")\n",
    "        X[\"dt_nn_a0\"] = X.a0_tags.str.count(\"DT NN\")\n",
    "        X[\"cc_a0\"] = X.a0_tags.str.count(\"CC\")\n",
    "        \n",
    "        # a1 features\n",
    "        X[\"characters_a1\"] = a1.len()\n",
    "        X[\"pronoun_counts_a1\"] = a1.count(\" you \") + a1.count(\" i \") + a1.count(\" me \") + a1.count(\" my \")\n",
    "        X[\"certain_lang_counts_a1\"] = a1.count(\" always \") + a1.count(\" never \") + a1.count(\" impossible \")\n",
    "        X[\"uncertain_lang_counts_a1\"] = a1.count(\" believe \") + a1.count(\" think \") + a1.count(\" feel \")\n",
    "        X[\"bold_counts_a1\"] = a1_raw.str.count(\"<br/>\")\n",
    "        X[\"because_counts_a1\"] = a1_raw.str.count(\"because\")\n",
    "        X[\"quote_counts_a1\"] = a1_raw.str.count(\"[\\\"']\")\n",
    "        X[\"comma_counts_a1\"] = a1_raw.str.count(\",\")\n",
    "        X[\"words_a1\"] = a1.count(\" \") + 1\n",
    "        X[\"total_punctuation_a1\"] = a1_raw.str.count(\"[.,?$!:;'\\\"-]\")\n",
    "        X[\"punctuation_percent_a1\"] = X[\"total_punctuation_a1\"]/X[\"characters_a1\"]\n",
    "        X[\"end_of_sentence_punct_counts_a1\"] = a1_raw.str.count(\"[!?.][ \\n]\")\n",
    "        X[\"no_sentence_punctuation_a1\"] = (X[\"end_of_sentence_punct_counts_a1\"]==0).astype(int)\n",
    "        X[\"sentence_counts_a1\"] = X[\"end_of_sentence_punct_counts_a1\"] + X[\"no_sentence_punctuation_a1\"]\n",
    "        X[\"average_sentence_word_len_a1\"] = X[\"words_a1\"]/X[\"sentence_counts_a1\"]\n",
    "        X[\"average_sentence_char_len_a1\"] = X[\"characters_a1\"]/X[\"sentence_counts_a1\"]\n",
    "        X[\"average_word_length_a1\"] = X[\"characters_a1\"]/X[\"words_a1\"]\n",
    "        X[\"n_transitions_a1\"] = a1_simple.apply(n_general_transitions)\n",
    "        X[\"n_misspelled_a1\"] = a1_simple.apply(n_misspelled_words)\n",
    "        X[\"n_slang_words_a1\"] = a1_simple.apply(n_slang_words)\n",
    "        X[\"percent_words_unique_a1\"] = a1_simple.apply(percent_unique)\n",
    "        X[\"first_word_capitalized_a1\"] = a1_raw.apply(lambda x: x[0].isupper()*1)\n",
    "        X[\"n_proper_nouns_a1\"] = a1_raw.str.count(\"[^.!?;] [A-Z]\")\n",
    "        X[\"all_caps_words_a1\"] = a1_raw.str.count(\"[A-Z]+[ .!?]\")\n",
    "        X[\"n_digits_a1\"] = a1_raw.apply(lambda x: sum(1 for c in x if c.isdigit()))\n",
    "        X[\"n_links_a1\"] = a1_raw.str.count(\"http\")\n",
    "        X[\"vbp_a1\"] = X.a1_tags.str.count(\"VBP\")\n",
    "        X[\"vbp_prp_a1\"] = X.a1_tags.str.count(\"VBP PRP\")\n",
    "        X[\"nn_nn_a1\"] = X.a1_tags.str.count(\"NN NN\")\n",
    "        X[\"to_a1\"] = X.a1_tags.str.count(\"TO\")\n",
    "        X[\"dt_a1\"] = X.a1_tags.str.count(\"DT\")\n",
    "        X[\"dt_nn_a1\"] = X.a1_tags.str.count(\"DT NN\")\n",
    "        X[\"cc_a1\"] = X.a1_tags.str.count(\"CC\")\n",
    "        \n",
    "        # diff features\n",
    "        X[\"character_diff\"] = X[\"characters_a0\"] - X[\"characters_a1\"]\n",
    "        X[\"character_diff_percent\"] = X[\"character_diff\"]/X[\"characters_a1\"]\n",
    "        X[\"pronoun_count_diff\"] = X[\"pronoun_counts_a0\"] - X[\"pronoun_counts_a1\"]\n",
    "        X[\"certain_language_diff\"] = X[\"certain_lang_counts_a0\"] - X[\"certain_lang_counts_a1\"]\n",
    "        X[\"uncertain_language_diff\"] = X[\"uncertain_lang_counts_a0\"] - X[\"uncertain_lang_counts_a1\"]\n",
    "        X[\"bold_counts_diff\"] = X[\"bold_counts_a0\"] - X[\"bold_counts_a1\"]\n",
    "        X[\"because_counts_diff\"] = X[\"because_counts_a0\"] - X[\"because_counts_a1\"]\n",
    "        X[\"quote_counts_diff\"] = X[\"quote_counts_a0\"] - X[\"quote_counts_a1\"]\n",
    "        X[\"comma_counts_diff\"] = X[\"comma_counts_a0\"] - X[\"comma_counts_a1\"]\n",
    "        X[\"words_diff\"] = X[\"words_a0\"] - X[\"words_a1\"]\n",
    "        X[\"words_diff_percent\"] = X[\"words_diff\"]/X[\"words_a1\"]\n",
    "        X[\"punctuation_percent_diff\"] = X[\"punctuation_percent_a0\"] - X[\"punctuation_percent_a1\"]\n",
    "        X[\"punctuation_percent_diff_percent\"] = X[\"punctuation_percent_diff\"]/(X[\"punctuation_percent_a1\"] + 1)\n",
    "        X[\"no_sentence_punctuation_diff\"] = X[\"no_sentence_punctuation_a0\"] - X[\"no_sentence_punctuation_a1\"]\n",
    "        X[\"sentence_diff\"] = X[\"sentence_counts_a0\"] - X[\"sentence_counts_a1\"]\n",
    "        X[\"average_sentence_word_len_diff\"] = X[\"average_sentence_word_len_a0\"] - X[\"average_sentence_word_len_a1\"]\n",
    "        X[\"average_sentence_char_len_diff\"] = X[\"average_sentence_char_len_a0\"] - X[\"average_sentence_char_len_a1\"]\n",
    "        X[\"average_word_length_diff\"] = X[\"average_word_length_a0\"] - X[\"average_word_length_a1\"]\n",
    "        X[\"average_word_length_diff_percent\"] = X[\"average_word_length_diff\"]/X[\"average_word_length_a1\"]\n",
    "        X[\"n_transitions_diff\"] = X[\"n_transitions_a0\"] - X[\"n_transitions_a1\"]\n",
    "        X[\"n_misspelled_diff\"] = X[\"n_misspelled_a0\"] - X[\"n_misspelled_a1\"]\n",
    "        X[\"n_slang_diff\"] = X[\"n_slang_words_a0\"] - X[\"n_slang_words_a1\"]\n",
    "        X[\"percent_words_unique_diff\"] = X[\"percent_words_unique_a0\"] - X[\"percent_words_unique_a1\"]\n",
    "        X[\"first_word_cap_diff\"] = X[\"first_word_capitalized_a0\"] - X[\"first_word_capitalized_a1\"]\n",
    "        X[\"n_proper_nouns_diff\"] = X[\"n_proper_nouns_a0\"] - X[\"n_proper_nouns_a1\"]\n",
    "        X[\"all_caps_words_diff\"] = X[\"all_caps_words_a0\"] - X[\"all_caps_words_a1\"]\n",
    "        X[\"n_digits_diff\"] = X[\"n_digits_a0\"] - X[\"n_digits_a1\"]\n",
    "        X[\"n_links_diff\"] = X[\"n_links_a0\"] - X[\"n_links_a1\"]\n",
    "        X[\"vbp_diff\"] = X[\"vbp_a0\"] - X[\"vbp_a1\"]\n",
    "        X[\"vbp_prp_diff\"] = X[\"vbp_prp_a0\"] - X[\"vbp_prp_a1\"]\n",
    "        X[\"nn_nn_diff\"] = X[\"nn_nn_a0\"] - X[\"nn_nn_a1\"]\n",
    "        X[\"to_diff\"] = X[\"to_a0\"] - X[\"to_a1\"]\n",
    "        X[\"dt_diff\"] = X[\"dt_a0\"] - X[\"dt_a1\"]\n",
    "        X[\"dt_nn_diff\"] = X[\"dt_nn_a0\"] - X[\"dt_nn_a1\"]\n",
    "        X[\"cc_diff\"] = X[\"cc_a0\"] - X[\"cc_a1\"]       \n",
    "        return X\n",
    "\n",
    "    \n",
    "class KeepNumeric(BaseEstimator, TransformerMixin):\n",
    "    def __init__(self):\n",
    "        pass\n",
    "    \n",
    "    def fit(self, X, y=None):\n",
    "        self.numeric_columns = X.dtypes[X.dtypes != \"object\"].index.tolist()\n",
    "        return self\n",
    "        \n",
    "    def transform(self, X, y=None):\n",
    "        return X[self.numeric_columns]\n",
    "\n",
    "    \n",
    "class OnlyDiffs(BaseEstimator, TransformerMixin):\n",
    "    def __init__(self, on=True):\n",
    "        self.on = on\n",
    "    \n",
    "    def fit(self, X, y=None):\n",
    "        return self\n",
    "    \n",
    "    def transform(self, X, y=None):\n",
    "        if self.on:\n",
    "            diff_cols = [c for c in X.columns if \"diff\" in c]\n",
    "            other_cols = [\"a0_tags\", \"a1_tags\"]\n",
    "            return X[diff_cols+other_cols]\n",
    "        else:\n",
    "            return X\n",
    "    \n",
    "\n",
    "class ColNames(BaseEstimator, TransformerMixin):\n",
    "    def __init__(self):\n",
    "        pass\n",
    "    \n",
    "    def fit(self, X, y=None):\n",
    "        self.columns = X.columns\n",
    "        return self\n",
    "    \n",
    "    def transform(self, X):\n",
    "        return X\n",
    "    \n",
    "    \n",
    "def accuracy(y, y_hat, threshold=.5):\n",
    "    if (len(y_hat.shape) == 2) and (y_hat.shape[1] == 2):\n",
    "        y_hat = y_hat[:,1]\n",
    "    return accuracy_score(y, y_hat>threshold)"
   ]
  },
  {
   "cell_type": "code",
   "execution_count": 82,
   "metadata": {},
   "outputs": [
    {
     "data": {
      "text/plain": [
       "32"
      ]
     },
     "execution_count": 82,
     "metadata": {},
     "output_type": "execute_result"
    }
   ],
   "source": [
    "group_cv = LeaveOneGroupOut()\n",
    "group_cv.get_n_splits(X, y, X.argument_group)"
   ]
  },
  {
   "cell_type": "code",
   "execution_count": 83,
   "metadata": {},
   "outputs": [
    {
     "name": "stdout",
     "output_type": "stream",
     "text": [
      "Wall time: 1.76 s\n"
     ]
    }
   ],
   "source": [
    "%%time\n",
    "\n",
    "steps = [(\"simple_features\", TextBasedFeatures()),\n",
    "         (\"only_diff_columns\", OnlyDiffs(on=True)),\n",
    "         (\"keep_numeric_only\", KeepNumeric()),\n",
    "         (\"col_names\", ColNames())]\n",
    "\n",
    "pipe = Pipeline(steps)\n",
    "\n",
    "X_clean = pipe.fit_transform(X, y)"
   ]
  },
  {
   "cell_type": "code",
   "execution_count": 84,
   "metadata": {},
   "outputs": [
    {
     "name": "stdout",
     "output_type": "stream",
     "text": [
      "0.798197424893\n",
      "Wall time: 2min\n"
     ]
    }
   ],
   "source": [
    "%%time\n",
    "\n",
    "rf = RandomForestClassifier(n_estimators=1000,\n",
    "                            n_jobs=-1,\n",
    "                            random_state=42)\n",
    "\n",
    "rf_predictions = cross_val_predict(rf, X_clean, y, cv=group_cv, groups=X.argument_group, n_jobs=-1, method='predict_proba')[:,1]\n",
    "\n",
    "print(accuracy(y, rf_predictions))"
   ]
  },
  {
   "cell_type": "code",
   "execution_count": 85,
   "metadata": {},
   "outputs": [
    {
     "name": "stdout",
     "output_type": "stream",
     "text": [
      "0.796480686695\n",
      "Wall time: 5.74 s\n"
     ]
    }
   ],
   "source": [
    "%%time\n",
    "\n",
    "scale = StandardScaler()\n",
    "lr = LogisticRegression(C=0.00125, random_state=42)\n",
    "lr_pipe = Pipeline([(\"scale\", scale), \n",
    "                    (\"model\", lr)])\n",
    "\n",
    "lr_predictions = cross_val_predict(lr_pipe, \n",
    "                                   X_clean, \n",
    "                                   y, \n",
    "                                   cv=group_cv, \n",
    "                                   groups=X.argument_group, \n",
    "                                   n_jobs=-1, \n",
    "                                   method='predict_proba')[:,1]\n",
    "print(accuracy(y, lr_predictions))"
   ]
  },
  {
   "cell_type": "code",
   "execution_count": 86,
   "metadata": {},
   "outputs": [
    {
     "name": "stdout",
     "output_type": "stream",
     "text": [
      "0.792446351931\n",
      "Wall time: 4min 16s\n"
     ]
    }
   ],
   "source": [
    "%%time\n",
    "svc = SVC(probability=True, cache_size=2000, random_state=42)\n",
    "\n",
    "svc_pipe = Pipeline([(\"scale\", scale), \n",
    "                     (\"model\", svc)])\n",
    "\n",
    "svc_predictions = cross_val_predict(svc_pipe, \n",
    "                                    X_clean, \n",
    "                                    y, \n",
    "                                    cv=group_cv, \n",
    "                                    groups=X.argument_group, \n",
    "                                    n_jobs=-1, \n",
    "                                    method='predict_proba')[:,1]\n",
    "print(accuracy(y, svc_predictions))"
   ]
  },
  {
   "cell_type": "code",
   "execution_count": 87,
   "metadata": {},
   "outputs": [
    {
     "name": "stdout",
     "output_type": "stream",
     "text": [
      "0.795879828326\n",
      "Wall time: 2min 26s\n"
     ]
    }
   ],
   "source": [
    "%%time\n",
    "\n",
    "et = ExtraTreesClassifier(n_estimators=2000,\n",
    "                            n_jobs=-1,\n",
    "                            random_state=42)\n",
    "\n",
    "et_predictions = cross_val_predict(et, X_clean, y, cv=group_cv, groups=X.argument_group, n_jobs=-1, method='predict_proba')[:,1]\n",
    "\n",
    "print(accuracy(y, et_predictions))"
   ]
  },
  {
   "cell_type": "code",
   "execution_count": 88,
   "metadata": {},
   "outputs": [
    {
     "name": "stdout",
     "output_type": "stream",
     "text": [
      "0.797424892704\n",
      "Wall time: 11.1 s\n"
     ]
    }
   ],
   "source": [
    "%%time\n",
    "\n",
    "best_params_from_gridsearch = {\n",
    "    'learning_rate': 0.05,\n",
    "    'loss': 'deviance',\n",
    "    'max_depth': 3,\n",
    "    'max_features': 1.0,\n",
    "    'subsample': 0.3}\n",
    "\n",
    "gb = GradientBoostingClassifier(random_state=42, **best_params_from_gridsearch)\n",
    "\n",
    "gb_predictions = cross_val_predict(gb, X_clean, y, cv=group_cv, groups=X.argument_group, n_jobs=-1, method='predict_proba')[:,1]\n",
    "\n",
    "print(accuracy(y, gb_predictions))"
   ]
  },
  {
   "cell_type": "code",
   "execution_count": 89,
   "metadata": {},
   "outputs": [
    {
     "name": "stdout",
     "output_type": "stream",
     "text": [
      "0.778798283262\n",
      "Wall time: 7.01 s\n"
     ]
    }
   ],
   "source": [
    "%%time\n",
    "\n",
    "knn = KNeighborsClassifier(n_neighbors=35, n_jobs=-1)\n",
    "scale_knn = StandardScaler()\n",
    "\n",
    "knn_pipe = Pipeline([(\"scale\", scale_knn), \n",
    "                     (\"model\", knn)])\n",
    "\n",
    "knn_predictions = cross_val_predict(knn_pipe, \n",
    "                                    X_clean, \n",
    "                                    y, \n",
    "                                    cv=group_cv, \n",
    "                                    groups=X.argument_group, \n",
    "                                    n_jobs=-1, \n",
    "                                    method='predict_proba')[:,1]\n",
    "print(accuracy(y, knn_predictions))"
   ]
  },
  {
   "cell_type": "code",
   "execution_count": 90,
   "metadata": {
    "collapsed": true
   },
   "outputs": [],
   "source": [
    "from sklearn.linear_model import Perceptron"
   ]
  },
  {
   "cell_type": "code",
   "execution_count": 91,
   "metadata": {},
   "outputs": [
    {
     "name": "stdout",
     "output_type": "stream",
     "text": [
      "0.729785407725\n",
      "Wall time: 5.29 s\n"
     ]
    }
   ],
   "source": [
    "%%time\n",
    "\n",
    "pt = Perceptron(random_state=42, n_jobs=-1)\n",
    "scale_pt = StandardScaler()\n",
    "\n",
    "pt_pipe = Pipeline([(\"scale\", scale_pt), \n",
    "                     (\"model\", pt)])\n",
    "\n",
    "pt_predictions = cross_val_predict(pt_pipe, \n",
    "                                    X_clean, \n",
    "                                    y, \n",
    "                                    cv=group_cv, \n",
    "                                    groups=X.argument_group, \n",
    "                                    n_jobs=-1, \n",
    "                                    method='predict')\n",
    "print(accuracy(y, pt_predictions))"
   ]
  },
  {
   "cell_type": "code",
   "execution_count": 92,
   "metadata": {
    "collapsed": true
   },
   "outputs": [],
   "source": [
    "from sklearn.neural_network import MLPClassifier"
   ]
  },
  {
   "cell_type": "code",
   "execution_count": 96,
   "metadata": {},
   "outputs": [
    {
     "name": "stdout",
     "output_type": "stream",
     "text": [
      "0.791416309013\n",
      "Wall time: 18 s\n"
     ]
    }
   ],
   "source": [
    "%%time\n",
    "\n",
    "best_params = {\n",
    "    'alpha': 0.0001,\n",
    "    'beta_1': 0.94,\n",
    "    'hidden_layer_sizes': (10, 6),\n",
    "    'learning_rate_init': 0.002}\n",
    "\n",
    "mlp = MLPClassifier(random_state=42, **best_params)\n",
    "\n",
    "scale_mlp = StandardScaler()\n",
    "\n",
    "mlp_pipe = Pipeline([(\"scale\", scale_mlp), \n",
    "                     (\"model\", mlp)])\n",
    "\n",
    "mlp_predictions = cross_val_predict(mlp_pipe, \n",
    "                                    X_clean, \n",
    "                                    y, \n",
    "                                    cv=group_cv, \n",
    "                                    groups=X.argument_group, \n",
    "                                    n_jobs=-1, \n",
    "                                    method='predict_proba')[:,1]\n",
    "print(accuracy(y, mlp_predictions))"
   ]
  },
  {
   "cell_type": "markdown",
   "metadata": {},
   "source": [
    "Layer one ensemble"
   ]
  },
  {
   "cell_type": "code",
   "execution_count": 97,
   "metadata": {},
   "outputs": [],
   "source": [
    "X_ens_1 = pd.DataFrame()\n",
    "X_ens_1[\"rf\"] = rf_predictions\n",
    "X_ens_1[\"lr\"] = lr_predictions\n",
    "X_ens_1[\"svc\"] = svc_predictions\n",
    "X_ens_1[\"et\"] = et_predictions\n",
    "X_ens_1[\"gb\"] = gb_predictions\n",
    "X_ens_1[\"knn\"] = knn_predictions\n",
    "X_ens_1[\"pt\"] = pt_predictions\n",
    "X_ens_1[\"mlp\"] = mlp_predictions"
   ]
  },
  {
   "cell_type": "code",
   "execution_count": 112,
   "metadata": {},
   "outputs": [
    {
     "name": "stdout",
     "output_type": "stream",
     "text": [
      "0.78669527897\n",
      "Wall time: 4.84 s\n"
     ]
    }
   ],
   "source": [
    "%%time\n",
    "\n",
    "lr = LogisticRegression(C=0.00125, random_state=42)\n",
    "\n",
    "lr_ens_1_predictions = cross_val_predict(lr, \n",
    "                                   X_ens_1, \n",
    "                                   y, \n",
    "                                   cv=group_cv, \n",
    "                                   groups=X.argument_group, \n",
    "                                   n_jobs=-1, \n",
    "                                   method='predict_proba')[:,1]\n",
    "print(accuracy(y, lr_ens_1_predictions))"
   ]
  },
  {
   "cell_type": "code",
   "execution_count": 113,
   "metadata": {},
   "outputs": [
    {
     "name": "stdout",
     "output_type": "stream",
     "text": [
      "0.798626609442\n",
      "Wall time: 1min 26s\n"
     ]
    }
   ],
   "source": [
    "%%time\n",
    "\n",
    "rf = RandomForestClassifier(n_estimators=1000,\n",
    "                            n_jobs=-1,\n",
    "                            random_state=42)\n",
    "\n",
    "rf_ens_1_predictions = cross_val_predict(rf, X_ens_1, y, cv=group_cv, groups=X.argument_group, n_jobs=-1, method='predict_proba')[:,1]\n",
    "\n",
    "print(accuracy(y, rf_ens_1_predictions))"
   ]
  },
  {
   "cell_type": "code",
   "execution_count": 120,
   "metadata": {},
   "outputs": [
    {
     "name": "stdout",
     "output_type": "stream",
     "text": [
      "0.798369098712\n",
      "Wall time: 1min 27s\n"
     ]
    }
   ],
   "source": [
    "%%time\n",
    "\n",
    "et = ExtraTreesClassifier(n_estimators=2000,\n",
    "                            n_jobs=-1,\n",
    "                            random_state=42)\n",
    "\n",
    "et_ens_1_predictions = cross_val_predict(et, X_ens_1, y, cv=group_cv, groups=X.argument_group, n_jobs=-1, method='predict_proba')[:,1]\n",
    "\n",
    "print(accuracy(y, et_ens_1_predictions))"
   ]
  },
  {
   "cell_type": "code",
   "execution_count": 121,
   "metadata": {
    "collapsed": true
   },
   "outputs": [],
   "source": [
    "X_ens_1_detailed = pd.concat([X_ens_1, X_clean], axis=1)"
   ]
  },
  {
   "cell_type": "code",
   "execution_count": 123,
   "metadata": {},
   "outputs": [
    {
     "name": "stdout",
     "output_type": "stream",
     "text": [
      "0.79991416309\n",
      "Wall time: 2min 41s\n"
     ]
    }
   ],
   "source": [
    "%%time\n",
    "\n",
    "rf = RandomForestClassifier(n_estimators=1000,\n",
    "                            n_jobs=-1,\n",
    "                            random_state=42)\n",
    "\n",
    "rf_ens_1_det_predictions = cross_val_predict(rf, X_ens_1_detailed, y, cv=group_cv, groups=X.argument_group, n_jobs=-1, method='predict_proba')[:,1]\n",
    "\n",
    "print(accuracy(y, rf_ens_1_det_predictions))"
   ]
  },
  {
   "cell_type": "code",
   "execution_count": 124,
   "metadata": {},
   "outputs": [
    {
     "name": "stdout",
     "output_type": "stream",
     "text": [
      "0.799055793991\n",
      "Wall time: 5.94 s\n"
     ]
    }
   ],
   "source": [
    "%%time\n",
    "\n",
    "scale = StandardScaler()\n",
    "lr = LogisticRegression(C=0.00125, random_state=42)\n",
    "lr_pipe = Pipeline([(\"scale\", scale), \n",
    "                    (\"model\", lr)])\n",
    "\n",
    "lr_ens_1_det_predictions = cross_val_predict(lr_pipe, \n",
    "                                   X_ens_1_detailed, \n",
    "                                   y, \n",
    "                                   cv=group_cv, \n",
    "                                   groups=X.argument_group, \n",
    "                                   n_jobs=-1, \n",
    "                                   method='predict_proba')[:,1]\n",
    "print(accuracy(y, lr_ens_1_det_predictions))"
   ]
  },
  {
   "cell_type": "code",
   "execution_count": 125,
   "metadata": {},
   "outputs": [
    {
     "name": "stdout",
     "output_type": "stream",
     "text": [
      "0.800600858369\n",
      "Wall time: 2min 40s\n"
     ]
    }
   ],
   "source": [
    "%%time\n",
    "\n",
    "et = ExtraTreesClassifier(n_estimators=2000,\n",
    "                            n_jobs=-1,\n",
    "                            random_state=42)\n",
    "\n",
    "et_ens_1_det_predictions = cross_val_predict(et, X_ens_1_detailed, y, cv=group_cv, groups=X.argument_group, n_jobs=-1, method='predict_proba')[:,1]\n",
    "\n",
    "print(accuracy(y, et_ens_1_det_predictions))"
   ]
  },
  {
   "cell_type": "markdown",
   "metadata": {},
   "source": [
    "Ensemble layer 2"
   ]
  },
  {
   "cell_type": "code",
   "execution_count": 128,
   "metadata": {},
   "outputs": [
    {
     "data": {
      "text/html": [
       "<div>\n",
       "<style>\n",
       "    .dataframe thead tr:only-child th {\n",
       "        text-align: right;\n",
       "    }\n",
       "\n",
       "    .dataframe thead th {\n",
       "        text-align: left;\n",
       "    }\n",
       "\n",
       "    .dataframe tbody tr th {\n",
       "        vertical-align: top;\n",
       "    }\n",
       "</style>\n",
       "<table border=\"1\" class=\"dataframe\">\n",
       "  <thead>\n",
       "    <tr style=\"text-align: right;\">\n",
       "      <th></th>\n",
       "      <th>rf2</th>\n",
       "      <th>et2</th>\n",
       "      <th>lr2</th>\n",
       "      <th>rf2d</th>\n",
       "      <th>et2d</th>\n",
       "      <th>lr2d</th>\n",
       "    </tr>\n",
       "  </thead>\n",
       "  <tbody>\n",
       "    <tr>\n",
       "      <th>0</th>\n",
       "      <td>0.968</td>\n",
       "      <td>0.9630</td>\n",
       "      <td>0.787948</td>\n",
       "      <td>0.979</td>\n",
       "      <td>0.9800</td>\n",
       "      <td>0.934257</td>\n",
       "    </tr>\n",
       "    <tr>\n",
       "      <th>1</th>\n",
       "      <td>0.784</td>\n",
       "      <td>0.8540</td>\n",
       "      <td>0.755912</td>\n",
       "      <td>0.867</td>\n",
       "      <td>0.9015</td>\n",
       "      <td>0.965618</td>\n",
       "    </tr>\n",
       "    <tr>\n",
       "      <th>2</th>\n",
       "      <td>0.044</td>\n",
       "      <td>0.0265</td>\n",
       "      <td>0.322685</td>\n",
       "      <td>0.050</td>\n",
       "      <td>0.0310</td>\n",
       "      <td>0.016381</td>\n",
       "    </tr>\n",
       "    <tr>\n",
       "      <th>3</th>\n",
       "      <td>0.964</td>\n",
       "      <td>0.9930</td>\n",
       "      <td>0.783276</td>\n",
       "      <td>0.991</td>\n",
       "      <td>0.9840</td>\n",
       "      <td>0.912362</td>\n",
       "    </tr>\n",
       "    <tr>\n",
       "      <th>4</th>\n",
       "      <td>0.056</td>\n",
       "      <td>0.0860</td>\n",
       "      <td>0.345479</td>\n",
       "      <td>0.031</td>\n",
       "      <td>0.0385</td>\n",
       "      <td>0.144167</td>\n",
       "    </tr>\n",
       "  </tbody>\n",
       "</table>\n",
       "</div>"
      ],
      "text/plain": [
       "     rf2     et2       lr2   rf2d    et2d      lr2d\n",
       "0  0.968  0.9630  0.787948  0.979  0.9800  0.934257\n",
       "1  0.784  0.8540  0.755912  0.867  0.9015  0.965618\n",
       "2  0.044  0.0265  0.322685  0.050  0.0310  0.016381\n",
       "3  0.964  0.9930  0.783276  0.991  0.9840  0.912362\n",
       "4  0.056  0.0860  0.345479  0.031  0.0385  0.144167"
      ]
     },
     "execution_count": 128,
     "metadata": {},
     "output_type": "execute_result"
    }
   ],
   "source": [
    "X_ens_2 = pd.DataFrame()\n",
    "X_ens_2[\"rf2\"] = rf_ens_1_predictions\n",
    "X_ens_2[\"et2\"] = et_ens_1_predictions\n",
    "X_ens_2[\"lr2\"] = lr_ens_1_predictions\n",
    "X_ens_2[\"rf2d\"] = rf_ens_1_det_predictions\n",
    "X_ens_2[\"et2d\"] = et_ens_1_det_predictions\n",
    "X_ens_2[\"lr2d\"] = lr_ens_1_det_predictions\n",
    "X_ens_2.head()"
   ]
  },
  {
   "cell_type": "code",
   "execution_count": 129,
   "metadata": {},
   "outputs": [
    {
     "name": "stdout",
     "output_type": "stream",
     "text": [
      "0.791502145923\n",
      "Wall time: 1min 38s\n"
     ]
    }
   ],
   "source": [
    "%%time\n",
    "\n",
    "rf = RandomForestClassifier(n_estimators=1000,\n",
    "                            n_jobs=-1,\n",
    "                            random_state=42)\n",
    "\n",
    "rf_ens_2_predictions = cross_val_predict(rf, X_ens_2, y, cv=group_cv, groups=X.argument_group, n_jobs=-1, method='predict_proba')[:,1]\n",
    "\n",
    "print(accuracy(y, rf_ens_2_predictions))"
   ]
  },
  {
   "cell_type": "code",
   "execution_count": 130,
   "metadata": {},
   "outputs": [
    {
     "name": "stdout",
     "output_type": "stream",
     "text": [
      "0.794248927039\n",
      "Wall time: 1min 29s\n"
     ]
    }
   ],
   "source": [
    "%%time\n",
    "\n",
    "et = ExtraTreesClassifier(n_estimators=2000,\n",
    "                            n_jobs=-1,\n",
    "                            random_state=42)\n",
    "\n",
    "et_ens_2_predictions = cross_val_predict(et, X_ens_2, y, cv=group_cv, groups=X.argument_group, n_jobs=-1, method='predict_proba')[:,1]\n",
    "\n",
    "print(accuracy(y, et_ens_2_predictions))"
   ]
  },
  {
   "cell_type": "code",
   "execution_count": 211,
   "metadata": {},
   "outputs": [
    {
     "name": "stdout",
     "output_type": "stream",
     "text": [
      "0.803862660944\n",
      "Wall time: 4.89 s\n"
     ]
    }
   ],
   "source": [
    "%%time\n",
    "\n",
    "scale = StandardScaler()\n",
    "lr = LogisticRegression(C=0.26867, random_state=42)\n",
    "lr_pipe = Pipeline([(\"scale\", scale), \n",
    "                    (\"model\", lr)])\n",
    "\n",
    "lr_pipe.fit(X_ens_2, y)\n",
    "\n",
    "\n",
    "lr_ens_2_predictions = cross_val_predict(lr_pipe, \n",
    "                                   X_ens_2, \n",
    "                                   y, \n",
    "                                   cv=group_cv, \n",
    "                                   groups=X.argument_group, \n",
    "                                   n_jobs=-1, \n",
    "                                   method='predict_proba')[:,1]\n",
    "print(accuracy(y, lr_ens_2_predictions))"
   ]
  },
  {
   "cell_type": "code",
   "execution_count": 33,
   "metadata": {},
   "outputs": [
    {
     "name": "stderr",
     "output_type": "stream",
     "text": [
      "C:\\Users\\Sanchez\\Anaconda3\\lib\\site-packages\\sklearn\\cross_validation.py:44: DeprecationWarning: This module was deprecated in version 0.18 in favor of the model_selection module into which all the refactored classes and functions are moved. Also note that the interface of the new CV iterators are different from that of this module. This module will be removed in 0.20.\n",
      "  \"This module will be removed in 0.20.\", DeprecationWarning)\n",
      "C:\\Users\\Sanchez\\Anaconda3\\lib\\site-packages\\sklearn\\grid_search.py:43: DeprecationWarning: This module was deprecated in version 0.18 in favor of the model_selection module into which all the refactored classes and functions are moved. This module will be removed in 0.20.\n",
      "  DeprecationWarning)\n"
     ]
    }
   ],
   "source": [
    "from sklearn.grid_search import RandomizedSearchCV"
   ]
  },
  {
   "cell_type": "code",
   "execution_count": 206,
   "metadata": {},
   "outputs": [
    {
     "data": {
      "text/plain": [
       "{'model__C': 0.26867275841806548}"
      ]
     },
     "execution_count": 206,
     "metadata": {},
     "output_type": "execute_result"
    }
   ],
   "source": [
    "grid.best_params_"
   ]
  },
  {
   "cell_type": "code",
   "execution_count": 56,
   "metadata": {},
   "outputs": [
    {
     "name": "stdout",
     "output_type": "stream",
     "text": [
      "Wall time: 10min 48s\n"
     ]
    }
   ],
   "source": [
    "%%time\n",
    "\n",
    "gb = GradientBoostingClassifier(n_estimators=175,  subsample=.5,\n",
    "                                random_state=42)\n",
    "\n",
    "params = {\n",
    "    \"loss\": [\"deviance\", \"exponential\"],\n",
    "    \"learning_rate\": [.045, .05, .05, .055, .06, .065, .07],\n",
    "    \"n_estimators\": [215, 220, 225, 225, 230, 235],\n",
    "    \"max_depth\": [3, 4, 5],\n",
    "    \"subsample\": [.2, .3, .4, .5, .6, .7, .8, .9],\n",
    "    \"max_features\": [.1, .2, .3, .4, .5, .6, .7, .8, .9, 1.0],\n",
    "    \n",
    "}\n",
    "\n",
    "grid = RandomizedSearchCV(gb, params, n_iter=50, scoring=\"accuracy\", n_jobs=-1, refit=False, cv=list(group_cv.split(X_clean, groups=X.argument_group)))\n",
    "\n",
    "grid.fit(X_clean, y)\n",
    "# gb_predictions = cross_val_predict(gb, X_clean, y, cv=group_cv, groups=X.argument_group, n_jobs=-1, method='predict_proba')[:,1]\n",
    "\n",
    "# print(accuracy(y, gb_predictions))"
   ]
  },
  {
   "cell_type": "code",
   "execution_count": null,
   "metadata": {
    "collapsed": true
   },
   "outputs": [],
   "source": [
    "grid."
   ]
  },
  {
   "cell_type": "code",
   "execution_count": 68,
   "metadata": {},
   "outputs": [
    {
     "data": {
      "text/html": [
       "<div>\n",
       "<style>\n",
       "    .dataframe thead tr:only-child th {\n",
       "        text-align: right;\n",
       "    }\n",
       "\n",
       "    .dataframe thead th {\n",
       "        text-align: left;\n",
       "    }\n",
       "\n",
       "    .dataframe tbody tr th {\n",
       "        vertical-align: top;\n",
       "    }\n",
       "</style>\n",
       "<table border=\"1\" class=\"dataframe\">\n",
       "  <thead>\n",
       "    <tr style=\"text-align: right;\">\n",
       "      <th></th>\n",
       "      <th>parameters</th>\n",
       "      <th>mean_validation_score</th>\n",
       "      <th>cv_validation_scores</th>\n",
       "    </tr>\n",
       "  </thead>\n",
       "  <tbody>\n",
       "    <tr>\n",
       "      <th>38</th>\n",
       "      <td>{'learning_rate_init': 0.001, 'hidden_layer_si...</td>\n",
       "      <td>0.794335</td>\n",
       "      <td>[0.854166666667, 0.8975, 0.810397553517, 0.743...</td>\n",
       "    </tr>\n",
       "    <tr>\n",
       "      <th>43</th>\n",
       "      <td>{'learning_rate_init': 0.001, 'hidden_layer_si...</td>\n",
       "      <td>0.793820</td>\n",
       "      <td>[0.888888888889, 0.89, 0.810397553517, 0.73180...</td>\n",
       "    </tr>\n",
       "    <tr>\n",
       "      <th>41</th>\n",
       "      <td>{'learning_rate_init': 0.001, 'hidden_layer_si...</td>\n",
       "      <td>0.793820</td>\n",
       "      <td>[0.888888888889, 0.89, 0.810397553517, 0.73563...</td>\n",
       "    </tr>\n",
       "    <tr>\n",
       "      <th>4</th>\n",
       "      <td>{'learning_rate_init': 0.0015, 'hidden_layer_s...</td>\n",
       "      <td>0.793734</td>\n",
       "      <td>[0.847222222222, 0.8975, 0.819571865443, 0.735...</td>\n",
       "    </tr>\n",
       "    <tr>\n",
       "      <th>31</th>\n",
       "      <td>{'learning_rate_init': 0.0015, 'hidden_layer_s...</td>\n",
       "      <td>0.793734</td>\n",
       "      <td>[0.881944444444, 0.89, 0.813455657492, 0.74712...</td>\n",
       "    </tr>\n",
       "    <tr>\n",
       "      <th>33</th>\n",
       "      <td>{'learning_rate_init': 0.002, 'hidden_layer_si...</td>\n",
       "      <td>0.793391</td>\n",
       "      <td>[0.864583333333, 0.905, 0.82874617737, 0.74329...</td>\n",
       "    </tr>\n",
       "    <tr>\n",
       "      <th>48</th>\n",
       "      <td>{'learning_rate_init': 0.001, 'hidden_layer_si...</td>\n",
       "      <td>0.793133</td>\n",
       "      <td>[0.850694444444, 0.9075, 0.816513761468, 0.747...</td>\n",
       "    </tr>\n",
       "    <tr>\n",
       "      <th>13</th>\n",
       "      <td>{'learning_rate_init': 0.002, 'hidden_layer_si...</td>\n",
       "      <td>0.792189</td>\n",
       "      <td>[0.850694444444, 0.89, 0.819571865443, 0.70881...</td>\n",
       "    </tr>\n",
       "    <tr>\n",
       "      <th>9</th>\n",
       "      <td>{'learning_rate_init': 0.002, 'hidden_layer_si...</td>\n",
       "      <td>0.792103</td>\n",
       "      <td>[0.892361111111, 0.9025, 0.813455657492, 0.754...</td>\n",
       "    </tr>\n",
       "    <tr>\n",
       "      <th>10</th>\n",
       "      <td>{'learning_rate_init': 0.001, 'hidden_layer_si...</td>\n",
       "      <td>0.792017</td>\n",
       "      <td>[0.885416666667, 0.8825, 0.822629969419, 0.735...</td>\n",
       "    </tr>\n",
       "    <tr>\n",
       "      <th>23</th>\n",
       "      <td>{'learning_rate_init': 0.0015, 'hidden_layer_s...</td>\n",
       "      <td>0.791502</td>\n",
       "      <td>[0.864583333333, 0.9025, 0.837920489297, 0.750...</td>\n",
       "    </tr>\n",
       "    <tr>\n",
       "      <th>24</th>\n",
       "      <td>{'learning_rate_init': 0.001, 'hidden_layer_si...</td>\n",
       "      <td>0.791416</td>\n",
       "      <td>[0.861111111111, 0.8775, 0.807339449541, 0.720...</td>\n",
       "    </tr>\n",
       "    <tr>\n",
       "      <th>25</th>\n",
       "      <td>{'learning_rate_init': 0.0015, 'hidden_layer_s...</td>\n",
       "      <td>0.790901</td>\n",
       "      <td>[0.854166666667, 0.9025, 0.804281345566, 0.720...</td>\n",
       "    </tr>\n",
       "    <tr>\n",
       "      <th>35</th>\n",
       "      <td>{'learning_rate_init': 0.0015, 'hidden_layer_s...</td>\n",
       "      <td>0.790815</td>\n",
       "      <td>[0.864583333333, 0.9025, 0.837920489297, 0.754...</td>\n",
       "    </tr>\n",
       "    <tr>\n",
       "      <th>44</th>\n",
       "      <td>{'learning_rate_init': 0.0015, 'hidden_layer_s...</td>\n",
       "      <td>0.790386</td>\n",
       "      <td>[0.854166666667, 0.8825, 0.810397553517, 0.724...</td>\n",
       "    </tr>\n",
       "    <tr>\n",
       "      <th>29</th>\n",
       "      <td>{'learning_rate_init': 0.001, 'hidden_layer_si...</td>\n",
       "      <td>0.790300</td>\n",
       "      <td>[0.875, 0.8825, 0.804281345566, 0.724137931034...</td>\n",
       "    </tr>\n",
       "    <tr>\n",
       "      <th>37</th>\n",
       "      <td>{'learning_rate_init': 0.002, 'hidden_layer_si...</td>\n",
       "      <td>0.790215</td>\n",
       "      <td>[0.871527777778, 0.89, 0.804281345566, 0.72030...</td>\n",
       "    </tr>\n",
       "    <tr>\n",
       "      <th>20</th>\n",
       "      <td>{'learning_rate_init': 0.0015, 'hidden_layer_s...</td>\n",
       "      <td>0.790043</td>\n",
       "      <td>[0.84375, 0.89, 0.813455657492, 0.731800766284...</td>\n",
       "    </tr>\n",
       "    <tr>\n",
       "      <th>32</th>\n",
       "      <td>{'learning_rate_init': 0.0015, 'hidden_layer_s...</td>\n",
       "      <td>0.789957</td>\n",
       "      <td>[0.84375, 0.89, 0.813455657492, 0.727969348659...</td>\n",
       "    </tr>\n",
       "    <tr>\n",
       "      <th>21</th>\n",
       "      <td>{'learning_rate_init': 0.002, 'hidden_layer_si...</td>\n",
       "      <td>0.789871</td>\n",
       "      <td>[0.864583333333, 0.9025, 0.807339449541, 0.750...</td>\n",
       "    </tr>\n",
       "    <tr>\n",
       "      <th>1</th>\n",
       "      <td>{'learning_rate_init': 0.001, 'hidden_layer_si...</td>\n",
       "      <td>0.789785</td>\n",
       "      <td>[0.875, 0.8825, 0.80122324159, 0.727969348659,...</td>\n",
       "    </tr>\n",
       "    <tr>\n",
       "      <th>0</th>\n",
       "      <td>{'learning_rate_init': 0.002, 'hidden_layer_si...</td>\n",
       "      <td>0.789785</td>\n",
       "      <td>[0.857638888889, 0.89, 0.80122324159, 0.716475...</td>\n",
       "    </tr>\n",
       "    <tr>\n",
       "      <th>26</th>\n",
       "      <td>{'learning_rate_init': 0.001, 'hidden_layer_si...</td>\n",
       "      <td>0.789700</td>\n",
       "      <td>[0.861111111111, 0.895, 0.804281345566, 0.7318...</td>\n",
       "    </tr>\n",
       "    <tr>\n",
       "      <th>6</th>\n",
       "      <td>{'learning_rate_init': 0.001, 'hidden_layer_si...</td>\n",
       "      <td>0.789700</td>\n",
       "      <td>[0.875, 0.8825, 0.80122324159, 0.727969348659,...</td>\n",
       "    </tr>\n",
       "    <tr>\n",
       "      <th>17</th>\n",
       "      <td>{'learning_rate_init': 0.0015, 'hidden_layer_s...</td>\n",
       "      <td>0.789528</td>\n",
       "      <td>[0.878472222222, 0.89, 0.816513761468, 0.75095...</td>\n",
       "    </tr>\n",
       "    <tr>\n",
       "      <th>22</th>\n",
       "      <td>{'learning_rate_init': 0.001, 'hidden_layer_si...</td>\n",
       "      <td>0.789442</td>\n",
       "      <td>[0.868055555556, 0.9, 0.831804281346, 0.731800...</td>\n",
       "    </tr>\n",
       "    <tr>\n",
       "      <th>46</th>\n",
       "      <td>{'learning_rate_init': 0.001, 'hidden_layer_si...</td>\n",
       "      <td>0.789356</td>\n",
       "      <td>[0.875, 0.8825, 0.80122324159, 0.727969348659,...</td>\n",
       "    </tr>\n",
       "    <tr>\n",
       "      <th>11</th>\n",
       "      <td>{'learning_rate_init': 0.0015, 'hidden_layer_s...</td>\n",
       "      <td>0.788670</td>\n",
       "      <td>[0.864583333333, 0.9, 0.82874617737, 0.7471264...</td>\n",
       "    </tr>\n",
       "    <tr>\n",
       "      <th>12</th>\n",
       "      <td>{'learning_rate_init': 0.0015, 'hidden_layer_s...</td>\n",
       "      <td>0.788240</td>\n",
       "      <td>[0.850694444444, 0.885, 0.816513761468, 0.7049...</td>\n",
       "    </tr>\n",
       "    <tr>\n",
       "      <th>36</th>\n",
       "      <td>{'learning_rate_init': 0.0015, 'hidden_layer_s...</td>\n",
       "      <td>0.788240</td>\n",
       "      <td>[0.881944444444, 0.905, 0.822629969419, 0.7471...</td>\n",
       "    </tr>\n",
       "    <tr>\n",
       "      <th>28</th>\n",
       "      <td>{'learning_rate_init': 0.002, 'hidden_layer_si...</td>\n",
       "      <td>0.787983</td>\n",
       "      <td>[0.864583333333, 0.89, 0.819571865443, 0.71264...</td>\n",
       "    </tr>\n",
       "    <tr>\n",
       "      <th>16</th>\n",
       "      <td>{'learning_rate_init': 0.0015, 'hidden_layer_s...</td>\n",
       "      <td>0.787897</td>\n",
       "      <td>[0.854166666667, 0.8925, 0.804281345566, 0.720...</td>\n",
       "    </tr>\n",
       "    <tr>\n",
       "      <th>49</th>\n",
       "      <td>{'learning_rate_init': 0.0015, 'hidden_layer_s...</td>\n",
       "      <td>0.787639</td>\n",
       "      <td>[0.868055555556, 0.91, 0.792048929664, 0.73946...</td>\n",
       "    </tr>\n",
       "    <tr>\n",
       "      <th>27</th>\n",
       "      <td>{'learning_rate_init': 0.001, 'hidden_layer_si...</td>\n",
       "      <td>0.787296</td>\n",
       "      <td>[0.864583333333, 0.905, 0.834862385321, 0.7432...</td>\n",
       "    </tr>\n",
       "    <tr>\n",
       "      <th>2</th>\n",
       "      <td>{'learning_rate_init': 0.001, 'hidden_layer_si...</td>\n",
       "      <td>0.787124</td>\n",
       "      <td>[0.864583333333, 0.905, 0.834862385321, 0.7432...</td>\n",
       "    </tr>\n",
       "    <tr>\n",
       "      <th>19</th>\n",
       "      <td>{'learning_rate_init': 0.0015, 'hidden_layer_s...</td>\n",
       "      <td>0.786867</td>\n",
       "      <td>[0.864583333333, 0.905, 0.822629969419, 0.7471...</td>\n",
       "    </tr>\n",
       "    <tr>\n",
       "      <th>3</th>\n",
       "      <td>{'learning_rate_init': 0.001, 'hidden_layer_si...</td>\n",
       "      <td>0.786609</td>\n",
       "      <td>[0.868055555556, 0.9, 0.837920489297, 0.743295...</td>\n",
       "    </tr>\n",
       "    <tr>\n",
       "      <th>7</th>\n",
       "      <td>{'learning_rate_init': 0.001, 'hidden_layer_si...</td>\n",
       "      <td>0.786009</td>\n",
       "      <td>[0.857638888889, 0.91, 0.810397553517, 0.73946...</td>\n",
       "    </tr>\n",
       "    <tr>\n",
       "      <th>15</th>\n",
       "      <td>{'learning_rate_init': 0.001, 'hidden_layer_si...</td>\n",
       "      <td>0.786009</td>\n",
       "      <td>[0.857638888889, 0.91, 0.810397553517, 0.73946...</td>\n",
       "    </tr>\n",
       "    <tr>\n",
       "      <th>42</th>\n",
       "      <td>{'learning_rate_init': 0.002, 'hidden_layer_si...</td>\n",
       "      <td>0.785064</td>\n",
       "      <td>[0.854166666667, 0.91, 0.792048929664, 0.74329...</td>\n",
       "    </tr>\n",
       "    <tr>\n",
       "      <th>14</th>\n",
       "      <td>{'learning_rate_init': 0.002, 'hidden_layer_si...</td>\n",
       "      <td>0.784034</td>\n",
       "      <td>[0.868055555556, 0.8925, 0.810397553517, 0.731...</td>\n",
       "    </tr>\n",
       "    <tr>\n",
       "      <th>47</th>\n",
       "      <td>{'learning_rate_init': 0.002, 'hidden_layer_si...</td>\n",
       "      <td>0.782146</td>\n",
       "      <td>[0.857638888889, 0.895, 0.807339449541, 0.7394...</td>\n",
       "    </tr>\n",
       "    <tr>\n",
       "      <th>34</th>\n",
       "      <td>{'learning_rate_init': 0.002, 'hidden_layer_si...</td>\n",
       "      <td>0.781030</td>\n",
       "      <td>[0.864583333333, 0.895, 0.798165137615, 0.7432...</td>\n",
       "    </tr>\n",
       "    <tr>\n",
       "      <th>5</th>\n",
       "      <td>{'learning_rate_init': 0.0015, 'hidden_layer_s...</td>\n",
       "      <td>0.781030</td>\n",
       "      <td>[0.864583333333, 0.9125, 0.810397553517, 0.750...</td>\n",
       "    </tr>\n",
       "    <tr>\n",
       "      <th>30</th>\n",
       "      <td>{'learning_rate_init': 0.0015, 'hidden_layer_s...</td>\n",
       "      <td>0.667468</td>\n",
       "      <td>[0.864583333333, 0.9175, 0.804281345566, 0.521...</td>\n",
       "    </tr>\n",
       "    <tr>\n",
       "      <th>18</th>\n",
       "      <td>{'learning_rate_init': 0.002, 'hidden_layer_si...</td>\n",
       "      <td>0.629013</td>\n",
       "      <td>[0.472222222222, 0.9175, 0.48623853211, 0.5210...</td>\n",
       "    </tr>\n",
       "    <tr>\n",
       "      <th>8</th>\n",
       "      <td>{'learning_rate_init': 0.002, 'hidden_layer_si...</td>\n",
       "      <td>0.592961</td>\n",
       "      <td>[0.475694444444, 0.505, 0.798165137615, 0.5210...</td>\n",
       "    </tr>\n",
       "    <tr>\n",
       "      <th>39</th>\n",
       "      <td>{'learning_rate_init': 0.0015, 'hidden_layer_s...</td>\n",
       "      <td>0.573820</td>\n",
       "      <td>[0.475694444444, 0.51, 0.489296636086, 0.52490...</td>\n",
       "    </tr>\n",
       "    <tr>\n",
       "      <th>40</th>\n",
       "      <td>{'learning_rate_init': 0.001, 'hidden_layer_si...</td>\n",
       "      <td>0.547554</td>\n",
       "      <td>[0.861111111111, 0.5025, 0.483180428135, 0.517...</td>\n",
       "    </tr>\n",
       "    <tr>\n",
       "      <th>45</th>\n",
       "      <td>{'learning_rate_init': 0.001, 'hidden_layer_si...</td>\n",
       "      <td>0.507983</td>\n",
       "      <td>[0.475694444444, 0.4925, 0.483180428135, 0.524...</td>\n",
       "    </tr>\n",
       "  </tbody>\n",
       "</table>\n",
       "</div>"
      ],
      "text/plain": [
       "                                           parameters  mean_validation_score  \\\n",
       "38  {'learning_rate_init': 0.001, 'hidden_layer_si...               0.794335   \n",
       "43  {'learning_rate_init': 0.001, 'hidden_layer_si...               0.793820   \n",
       "41  {'learning_rate_init': 0.001, 'hidden_layer_si...               0.793820   \n",
       "4   {'learning_rate_init': 0.0015, 'hidden_layer_s...               0.793734   \n",
       "31  {'learning_rate_init': 0.0015, 'hidden_layer_s...               0.793734   \n",
       "33  {'learning_rate_init': 0.002, 'hidden_layer_si...               0.793391   \n",
       "48  {'learning_rate_init': 0.001, 'hidden_layer_si...               0.793133   \n",
       "13  {'learning_rate_init': 0.002, 'hidden_layer_si...               0.792189   \n",
       "9   {'learning_rate_init': 0.002, 'hidden_layer_si...               0.792103   \n",
       "10  {'learning_rate_init': 0.001, 'hidden_layer_si...               0.792017   \n",
       "23  {'learning_rate_init': 0.0015, 'hidden_layer_s...               0.791502   \n",
       "24  {'learning_rate_init': 0.001, 'hidden_layer_si...               0.791416   \n",
       "25  {'learning_rate_init': 0.0015, 'hidden_layer_s...               0.790901   \n",
       "35  {'learning_rate_init': 0.0015, 'hidden_layer_s...               0.790815   \n",
       "44  {'learning_rate_init': 0.0015, 'hidden_layer_s...               0.790386   \n",
       "29  {'learning_rate_init': 0.001, 'hidden_layer_si...               0.790300   \n",
       "37  {'learning_rate_init': 0.002, 'hidden_layer_si...               0.790215   \n",
       "20  {'learning_rate_init': 0.0015, 'hidden_layer_s...               0.790043   \n",
       "32  {'learning_rate_init': 0.0015, 'hidden_layer_s...               0.789957   \n",
       "21  {'learning_rate_init': 0.002, 'hidden_layer_si...               0.789871   \n",
       "1   {'learning_rate_init': 0.001, 'hidden_layer_si...               0.789785   \n",
       "0   {'learning_rate_init': 0.002, 'hidden_layer_si...               0.789785   \n",
       "26  {'learning_rate_init': 0.001, 'hidden_layer_si...               0.789700   \n",
       "6   {'learning_rate_init': 0.001, 'hidden_layer_si...               0.789700   \n",
       "17  {'learning_rate_init': 0.0015, 'hidden_layer_s...               0.789528   \n",
       "22  {'learning_rate_init': 0.001, 'hidden_layer_si...               0.789442   \n",
       "46  {'learning_rate_init': 0.001, 'hidden_layer_si...               0.789356   \n",
       "11  {'learning_rate_init': 0.0015, 'hidden_layer_s...               0.788670   \n",
       "12  {'learning_rate_init': 0.0015, 'hidden_layer_s...               0.788240   \n",
       "36  {'learning_rate_init': 0.0015, 'hidden_layer_s...               0.788240   \n",
       "28  {'learning_rate_init': 0.002, 'hidden_layer_si...               0.787983   \n",
       "16  {'learning_rate_init': 0.0015, 'hidden_layer_s...               0.787897   \n",
       "49  {'learning_rate_init': 0.0015, 'hidden_layer_s...               0.787639   \n",
       "27  {'learning_rate_init': 0.001, 'hidden_layer_si...               0.787296   \n",
       "2   {'learning_rate_init': 0.001, 'hidden_layer_si...               0.787124   \n",
       "19  {'learning_rate_init': 0.0015, 'hidden_layer_s...               0.786867   \n",
       "3   {'learning_rate_init': 0.001, 'hidden_layer_si...               0.786609   \n",
       "7   {'learning_rate_init': 0.001, 'hidden_layer_si...               0.786009   \n",
       "15  {'learning_rate_init': 0.001, 'hidden_layer_si...               0.786009   \n",
       "42  {'learning_rate_init': 0.002, 'hidden_layer_si...               0.785064   \n",
       "14  {'learning_rate_init': 0.002, 'hidden_layer_si...               0.784034   \n",
       "47  {'learning_rate_init': 0.002, 'hidden_layer_si...               0.782146   \n",
       "34  {'learning_rate_init': 0.002, 'hidden_layer_si...               0.781030   \n",
       "5   {'learning_rate_init': 0.0015, 'hidden_layer_s...               0.781030   \n",
       "30  {'learning_rate_init': 0.0015, 'hidden_layer_s...               0.667468   \n",
       "18  {'learning_rate_init': 0.002, 'hidden_layer_si...               0.629013   \n",
       "8   {'learning_rate_init': 0.002, 'hidden_layer_si...               0.592961   \n",
       "39  {'learning_rate_init': 0.0015, 'hidden_layer_s...               0.573820   \n",
       "40  {'learning_rate_init': 0.001, 'hidden_layer_si...               0.547554   \n",
       "45  {'learning_rate_init': 0.001, 'hidden_layer_si...               0.507983   \n",
       "\n",
       "                                 cv_validation_scores  \n",
       "38  [0.854166666667, 0.8975, 0.810397553517, 0.743...  \n",
       "43  [0.888888888889, 0.89, 0.810397553517, 0.73180...  \n",
       "41  [0.888888888889, 0.89, 0.810397553517, 0.73563...  \n",
       "4   [0.847222222222, 0.8975, 0.819571865443, 0.735...  \n",
       "31  [0.881944444444, 0.89, 0.813455657492, 0.74712...  \n",
       "33  [0.864583333333, 0.905, 0.82874617737, 0.74329...  \n",
       "48  [0.850694444444, 0.9075, 0.816513761468, 0.747...  \n",
       "13  [0.850694444444, 0.89, 0.819571865443, 0.70881...  \n",
       "9   [0.892361111111, 0.9025, 0.813455657492, 0.754...  \n",
       "10  [0.885416666667, 0.8825, 0.822629969419, 0.735...  \n",
       "23  [0.864583333333, 0.9025, 0.837920489297, 0.750...  \n",
       "24  [0.861111111111, 0.8775, 0.807339449541, 0.720...  \n",
       "25  [0.854166666667, 0.9025, 0.804281345566, 0.720...  \n",
       "35  [0.864583333333, 0.9025, 0.837920489297, 0.754...  \n",
       "44  [0.854166666667, 0.8825, 0.810397553517, 0.724...  \n",
       "29  [0.875, 0.8825, 0.804281345566, 0.724137931034...  \n",
       "37  [0.871527777778, 0.89, 0.804281345566, 0.72030...  \n",
       "20  [0.84375, 0.89, 0.813455657492, 0.731800766284...  \n",
       "32  [0.84375, 0.89, 0.813455657492, 0.727969348659...  \n",
       "21  [0.864583333333, 0.9025, 0.807339449541, 0.750...  \n",
       "1   [0.875, 0.8825, 0.80122324159, 0.727969348659,...  \n",
       "0   [0.857638888889, 0.89, 0.80122324159, 0.716475...  \n",
       "26  [0.861111111111, 0.895, 0.804281345566, 0.7318...  \n",
       "6   [0.875, 0.8825, 0.80122324159, 0.727969348659,...  \n",
       "17  [0.878472222222, 0.89, 0.816513761468, 0.75095...  \n",
       "22  [0.868055555556, 0.9, 0.831804281346, 0.731800...  \n",
       "46  [0.875, 0.8825, 0.80122324159, 0.727969348659,...  \n",
       "11  [0.864583333333, 0.9, 0.82874617737, 0.7471264...  \n",
       "12  [0.850694444444, 0.885, 0.816513761468, 0.7049...  \n",
       "36  [0.881944444444, 0.905, 0.822629969419, 0.7471...  \n",
       "28  [0.864583333333, 0.89, 0.819571865443, 0.71264...  \n",
       "16  [0.854166666667, 0.8925, 0.804281345566, 0.720...  \n",
       "49  [0.868055555556, 0.91, 0.792048929664, 0.73946...  \n",
       "27  [0.864583333333, 0.905, 0.834862385321, 0.7432...  \n",
       "2   [0.864583333333, 0.905, 0.834862385321, 0.7432...  \n",
       "19  [0.864583333333, 0.905, 0.822629969419, 0.7471...  \n",
       "3   [0.868055555556, 0.9, 0.837920489297, 0.743295...  \n",
       "7   [0.857638888889, 0.91, 0.810397553517, 0.73946...  \n",
       "15  [0.857638888889, 0.91, 0.810397553517, 0.73946...  \n",
       "42  [0.854166666667, 0.91, 0.792048929664, 0.74329...  \n",
       "14  [0.868055555556, 0.8925, 0.810397553517, 0.731...  \n",
       "47  [0.857638888889, 0.895, 0.807339449541, 0.7394...  \n",
       "34  [0.864583333333, 0.895, 0.798165137615, 0.7432...  \n",
       "5   [0.864583333333, 0.9125, 0.810397553517, 0.750...  \n",
       "30  [0.864583333333, 0.9175, 0.804281345566, 0.521...  \n",
       "18  [0.472222222222, 0.9175, 0.48623853211, 0.5210...  \n",
       "8   [0.475694444444, 0.505, 0.798165137615, 0.5210...  \n",
       "39  [0.475694444444, 0.51, 0.489296636086, 0.52490...  \n",
       "40  [0.861111111111, 0.5025, 0.483180428135, 0.517...  \n",
       "45  [0.475694444444, 0.4925, 0.483180428135, 0.524...  "
      ]
     },
     "execution_count": 68,
     "metadata": {},
     "output_type": "execute_result"
    }
   ],
   "source": [
    "pd.DataFrame(grid.grid_scores_).sort_values([\"mean_validation_score\"], ascending=False)"
   ]
  },
  {
   "cell_type": "code",
   "execution_count": 207,
   "metadata": {},
   "outputs": [],
   "source": [
    "cv_results = pd.DataFrame(pd.DataFrame(grid.grid_scores_).parameters.values.tolist())"
   ]
  },
  {
   "cell_type": "code",
   "execution_count": 208,
   "metadata": {
    "collapsed": true
   },
   "outputs": [],
   "source": [
    "cv_results[\"scores\"] = pd.DataFrame(grid.grid_scores_).mean_validation_score"
   ]
  },
  {
   "cell_type": "code",
   "execution_count": 209,
   "metadata": {},
   "outputs": [
    {
     "data": {
      "text/html": [
       "<div>\n",
       "<style>\n",
       "    .dataframe thead tr:only-child th {\n",
       "        text-align: right;\n",
       "    }\n",
       "\n",
       "    .dataframe thead th {\n",
       "        text-align: left;\n",
       "    }\n",
       "\n",
       "    .dataframe tbody tr th {\n",
       "        vertical-align: top;\n",
       "    }\n",
       "</style>\n",
       "<table border=\"1\" class=\"dataframe\">\n",
       "  <thead>\n",
       "    <tr style=\"text-align: right;\">\n",
       "      <th></th>\n",
       "      <th>model__C</th>\n",
       "      <th>scores</th>\n",
       "    </tr>\n",
       "  </thead>\n",
       "  <tbody>\n",
       "    <tr>\n",
       "      <th>0</th>\n",
       "      <td>2.725691</td>\n",
       "      <td>0.803348</td>\n",
       "    </tr>\n",
       "    <tr>\n",
       "      <th>1</th>\n",
       "      <td>0.868358</td>\n",
       "      <td>0.803348</td>\n",
       "    </tr>\n",
       "    <tr>\n",
       "      <th>2</th>\n",
       "      <td>2.214892</td>\n",
       "      <td>0.803348</td>\n",
       "    </tr>\n",
       "    <tr>\n",
       "      <th>3</th>\n",
       "      <td>2.996037</td>\n",
       "      <td>0.803262</td>\n",
       "    </tr>\n",
       "    <tr>\n",
       "      <th>4</th>\n",
       "      <td>2.834922</td>\n",
       "      <td>0.803262</td>\n",
       "    </tr>\n",
       "  </tbody>\n",
       "</table>\n",
       "</div>"
      ],
      "text/plain": [
       "   model__C    scores\n",
       "0  2.725691  0.803348\n",
       "1  0.868358  0.803348\n",
       "2  2.214892  0.803348\n",
       "3  2.996037  0.803262\n",
       "4  2.834922  0.803262"
      ]
     },
     "execution_count": 209,
     "metadata": {},
     "output_type": "execute_result"
    }
   ],
   "source": [
    "cv_results.head()"
   ]
  },
  {
   "cell_type": "code",
   "execution_count": 76,
   "metadata": {},
   "outputs": [
    {
     "data": {
      "text/plain": [
       "hidden_layer_sizes\n",
       "(10,)      0.790837\n",
       "(10, 3)    0.790721\n",
       "(10, 4)    0.791893\n",
       "(10, 5)    0.789264\n",
       "(10, 6)    0.791322\n",
       "Name: scores, dtype: float64"
      ]
     },
     "execution_count": 76,
     "metadata": {},
     "output_type": "execute_result"
    }
   ],
   "source": [
    "cv_results.groupby(\"hidden_layer_sizes\")[\"scores\"].mean()"
   ]
  },
  {
   "cell_type": "code",
   "execution_count": 210,
   "metadata": {},
   "outputs": [
    {
     "data": {
      "text/plain": [
       "<matplotlib.collections.PathCollection at 0x222c6564e10>"
      ]
     },
     "execution_count": 210,
     "metadata": {},
     "output_type": "execute_result"
    },
    {
     "data": {
      "image/png": "[encoded data removed]",
      "text/plain": [
       "<matplotlib.figure.Figure at 0x222c5cc42e8>"
      ]
     },
     "metadata": {},
     "output_type": "display_data"
    }
   ],
   "source": [
    "plt.scatter(cv_results.model__C, cv_results.scores)"
   ]
  },
  {
   "cell_type": "code",
   "execution_count": 78,
   "metadata": {},
   "outputs": [
    {
     "data": {
      "text/html": [
       "<div>\n",
       "<style>\n",
       "    .dataframe thead tr:only-child th {\n",
       "        text-align: right;\n",
       "    }\n",
       "\n",
       "    .dataframe thead th {\n",
       "        text-align: left;\n",
       "    }\n",
       "\n",
       "    .dataframe tbody tr th {\n",
       "        vertical-align: top;\n",
       "    }\n",
       "</style>\n",
       "<table border=\"1\" class=\"dataframe\">\n",
       "  <thead>\n",
       "    <tr style=\"text-align: right;\">\n",
       "      <th></th>\n",
       "      <th>alpha</th>\n",
       "      <th>beta_1</th>\n",
       "      <th>hidden_layer_sizes</th>\n",
       "      <th>learning_rate_init</th>\n",
       "      <th>scores</th>\n",
       "    </tr>\n",
       "  </thead>\n",
       "  <tbody>\n",
       "    <tr>\n",
       "      <th>37</th>\n",
       "      <td>0.0002</td>\n",
       "      <td>0.96</td>\n",
       "      <td>(10, 5)</td>\n",
       "      <td>0.0010</td>\n",
       "      <td>0.786524</td>\n",
       "    </tr>\n",
       "    <tr>\n",
       "      <th>48</th>\n",
       "      <td>0.0001</td>\n",
       "      <td>0.95</td>\n",
       "      <td>(10, 5)</td>\n",
       "      <td>0.0010</td>\n",
       "      <td>0.786609</td>\n",
       "    </tr>\n",
       "    <tr>\n",
       "      <th>4</th>\n",
       "      <td>0.0001</td>\n",
       "      <td>0.98</td>\n",
       "      <td>(10, 3)</td>\n",
       "      <td>0.0010</td>\n",
       "      <td>0.787124</td>\n",
       "    </tr>\n",
       "    <tr>\n",
       "      <th>6</th>\n",
       "      <td>0.0001</td>\n",
       "      <td>0.98</td>\n",
       "      <td>(10,)</td>\n",
       "      <td>0.0020</td>\n",
       "      <td>0.787382</td>\n",
       "    </tr>\n",
       "    <tr>\n",
       "      <th>8</th>\n",
       "      <td>0.0001</td>\n",
       "      <td>0.94</td>\n",
       "      <td>(10, 5)</td>\n",
       "      <td>0.0010</td>\n",
       "      <td>0.787639</td>\n",
       "    </tr>\n",
       "    <tr>\n",
       "      <th>2</th>\n",
       "      <td>0.0010</td>\n",
       "      <td>0.97</td>\n",
       "      <td>(10, 5)</td>\n",
       "      <td>0.0010</td>\n",
       "      <td>0.787983</td>\n",
       "    </tr>\n",
       "    <tr>\n",
       "      <th>27</th>\n",
       "      <td>0.0001</td>\n",
       "      <td>0.96</td>\n",
       "      <td>(10, 5)</td>\n",
       "      <td>0.0010</td>\n",
       "      <td>0.788326</td>\n",
       "    </tr>\n",
       "    <tr>\n",
       "      <th>21</th>\n",
       "      <td>0.0010</td>\n",
       "      <td>0.95</td>\n",
       "      <td>(10,)</td>\n",
       "      <td>0.0015</td>\n",
       "      <td>0.788498</td>\n",
       "    </tr>\n",
       "    <tr>\n",
       "      <th>43</th>\n",
       "      <td>0.0002</td>\n",
       "      <td>0.95</td>\n",
       "      <td>(10, 3)</td>\n",
       "      <td>0.0020</td>\n",
       "      <td>0.788584</td>\n",
       "    </tr>\n",
       "    <tr>\n",
       "      <th>41</th>\n",
       "      <td>0.0010</td>\n",
       "      <td>0.94</td>\n",
       "      <td>(10, 6)</td>\n",
       "      <td>0.0015</td>\n",
       "      <td>0.788670</td>\n",
       "    </tr>\n",
       "    <tr>\n",
       "      <th>11</th>\n",
       "      <td>0.0010</td>\n",
       "      <td>0.96</td>\n",
       "      <td>(10, 6)</td>\n",
       "      <td>0.0015</td>\n",
       "      <td>0.788755</td>\n",
       "    </tr>\n",
       "    <tr>\n",
       "      <th>34</th>\n",
       "      <td>0.0010</td>\n",
       "      <td>0.98</td>\n",
       "      <td>(10, 6)</td>\n",
       "      <td>0.0020</td>\n",
       "      <td>0.788841</td>\n",
       "    </tr>\n",
       "    <tr>\n",
       "      <th>33</th>\n",
       "      <td>0.0010</td>\n",
       "      <td>0.98</td>\n",
       "      <td>(10, 3)</td>\n",
       "      <td>0.0015</td>\n",
       "      <td>0.789013</td>\n",
       "    </tr>\n",
       "    <tr>\n",
       "      <th>40</th>\n",
       "      <td>0.0002</td>\n",
       "      <td>0.98</td>\n",
       "      <td>(10,)</td>\n",
       "      <td>0.0015</td>\n",
       "      <td>0.789528</td>\n",
       "    </tr>\n",
       "    <tr>\n",
       "      <th>42</th>\n",
       "      <td>0.0010</td>\n",
       "      <td>0.98</td>\n",
       "      <td>(10, 5)</td>\n",
       "      <td>0.0020</td>\n",
       "      <td>0.789700</td>\n",
       "    </tr>\n",
       "    <tr>\n",
       "      <th>7</th>\n",
       "      <td>0.0020</td>\n",
       "      <td>0.96</td>\n",
       "      <td>(10, 5)</td>\n",
       "      <td>0.0020</td>\n",
       "      <td>0.789785</td>\n",
       "    </tr>\n",
       "    <tr>\n",
       "      <th>10</th>\n",
       "      <td>0.0001</td>\n",
       "      <td>0.97</td>\n",
       "      <td>(10, 5)</td>\n",
       "      <td>0.0020</td>\n",
       "      <td>0.789957</td>\n",
       "    </tr>\n",
       "    <tr>\n",
       "      <th>26</th>\n",
       "      <td>0.0010</td>\n",
       "      <td>0.97</td>\n",
       "      <td>(10, 3)</td>\n",
       "      <td>0.0020</td>\n",
       "      <td>0.790215</td>\n",
       "    </tr>\n",
       "    <tr>\n",
       "      <th>36</th>\n",
       "      <td>0.0020</td>\n",
       "      <td>0.98</td>\n",
       "      <td>(10, 5)</td>\n",
       "      <td>0.0020</td>\n",
       "      <td>0.790300</td>\n",
       "    </tr>\n",
       "    <tr>\n",
       "      <th>18</th>\n",
       "      <td>0.0001</td>\n",
       "      <td>0.94</td>\n",
       "      <td>(10, 4)</td>\n",
       "      <td>0.0010</td>\n",
       "      <td>0.790300</td>\n",
       "    </tr>\n",
       "    <tr>\n",
       "      <th>1</th>\n",
       "      <td>0.0001</td>\n",
       "      <td>0.95</td>\n",
       "      <td>(10, 5)</td>\n",
       "      <td>0.0020</td>\n",
       "      <td>0.790386</td>\n",
       "    </tr>\n",
       "    <tr>\n",
       "      <th>31</th>\n",
       "      <td>0.0001</td>\n",
       "      <td>0.96</td>\n",
       "      <td>(10,)</td>\n",
       "      <td>0.0015</td>\n",
       "      <td>0.790472</td>\n",
       "    </tr>\n",
       "    <tr>\n",
       "      <th>0</th>\n",
       "      <td>0.0020</td>\n",
       "      <td>0.97</td>\n",
       "      <td>(10, 3)</td>\n",
       "      <td>0.0010</td>\n",
       "      <td>0.790558</td>\n",
       "    </tr>\n",
       "    <tr>\n",
       "      <th>14</th>\n",
       "      <td>0.0020</td>\n",
       "      <td>0.95</td>\n",
       "      <td>(10, 6)</td>\n",
       "      <td>0.0020</td>\n",
       "      <td>0.790558</td>\n",
       "    </tr>\n",
       "    <tr>\n",
       "      <th>15</th>\n",
       "      <td>0.0010</td>\n",
       "      <td>0.98</td>\n",
       "      <td>(10, 5)</td>\n",
       "      <td>0.0015</td>\n",
       "      <td>0.790730</td>\n",
       "    </tr>\n",
       "    <tr>\n",
       "      <th>35</th>\n",
       "      <td>0.0010</td>\n",
       "      <td>0.97</td>\n",
       "      <td>(10, 3)</td>\n",
       "      <td>0.0010</td>\n",
       "      <td>0.790730</td>\n",
       "    </tr>\n",
       "    <tr>\n",
       "      <th>39</th>\n",
       "      <td>0.0002</td>\n",
       "      <td>0.94</td>\n",
       "      <td>(10, 4)</td>\n",
       "      <td>0.0015</td>\n",
       "      <td>0.790730</td>\n",
       "    </tr>\n",
       "    <tr>\n",
       "      <th>23</th>\n",
       "      <td>0.0002</td>\n",
       "      <td>0.96</td>\n",
       "      <td>(10, 5)</td>\n",
       "      <td>0.0015</td>\n",
       "      <td>0.791159</td>\n",
       "    </tr>\n",
       "    <tr>\n",
       "      <th>32</th>\n",
       "      <td>0.0002</td>\n",
       "      <td>0.96</td>\n",
       "      <td>(10, 4)</td>\n",
       "      <td>0.0015</td>\n",
       "      <td>0.791159</td>\n",
       "    </tr>\n",
       "    <tr>\n",
       "      <th>17</th>\n",
       "      <td>0.0002</td>\n",
       "      <td>0.95</td>\n",
       "      <td>(10, 5)</td>\n",
       "      <td>0.0015</td>\n",
       "      <td>0.791330</td>\n",
       "    </tr>\n",
       "    <tr>\n",
       "      <th>20</th>\n",
       "      <td>0.0002</td>\n",
       "      <td>0.98</td>\n",
       "      <td>(10,)</td>\n",
       "      <td>0.0010</td>\n",
       "      <td>0.791416</td>\n",
       "    </tr>\n",
       "    <tr>\n",
       "      <th>47</th>\n",
       "      <td>0.0002</td>\n",
       "      <td>0.94</td>\n",
       "      <td>(10, 6)</td>\n",
       "      <td>0.0020</td>\n",
       "      <td>0.791674</td>\n",
       "    </tr>\n",
       "    <tr>\n",
       "      <th>22</th>\n",
       "      <td>0.0020</td>\n",
       "      <td>0.95</td>\n",
       "      <td>(10, 3)</td>\n",
       "      <td>0.0015</td>\n",
       "      <td>0.791760</td>\n",
       "    </tr>\n",
       "    <tr>\n",
       "      <th>44</th>\n",
       "      <td>0.0020</td>\n",
       "      <td>0.97</td>\n",
       "      <td>(10, 4)</td>\n",
       "      <td>0.0010</td>\n",
       "      <td>0.791845</td>\n",
       "    </tr>\n",
       "    <tr>\n",
       "      <th>5</th>\n",
       "      <td>0.0002</td>\n",
       "      <td>0.95</td>\n",
       "      <td>(10, 3)</td>\n",
       "      <td>0.0015</td>\n",
       "      <td>0.791931</td>\n",
       "    </tr>\n",
       "    <tr>\n",
       "      <th>3</th>\n",
       "      <td>0.0002</td>\n",
       "      <td>0.96</td>\n",
       "      <td>(10, 4)</td>\n",
       "      <td>0.0020</td>\n",
       "      <td>0.791931</td>\n",
       "    </tr>\n",
       "    <tr>\n",
       "      <th>25</th>\n",
       "      <td>0.0020</td>\n",
       "      <td>0.95</td>\n",
       "      <td>(10, 6)</td>\n",
       "      <td>0.0015</td>\n",
       "      <td>0.792103</td>\n",
       "    </tr>\n",
       "    <tr>\n",
       "      <th>28</th>\n",
       "      <td>0.0020</td>\n",
       "      <td>0.97</td>\n",
       "      <td>(10, 4)</td>\n",
       "      <td>0.0015</td>\n",
       "      <td>0.792103</td>\n",
       "    </tr>\n",
       "    <tr>\n",
       "      <th>29</th>\n",
       "      <td>0.0002</td>\n",
       "      <td>0.95</td>\n",
       "      <td>(10,)</td>\n",
       "      <td>0.0020</td>\n",
       "      <td>0.792446</td>\n",
       "    </tr>\n",
       "    <tr>\n",
       "      <th>24</th>\n",
       "      <td>0.0020</td>\n",
       "      <td>0.98</td>\n",
       "      <td>(10, 6)</td>\n",
       "      <td>0.0010</td>\n",
       "      <td>0.792618</td>\n",
       "    </tr>\n",
       "    <tr>\n",
       "      <th>38</th>\n",
       "      <td>0.0002</td>\n",
       "      <td>0.98</td>\n",
       "      <td>(10, 6)</td>\n",
       "      <td>0.0015</td>\n",
       "      <td>0.792704</td>\n",
       "    </tr>\n",
       "    <tr>\n",
       "      <th>49</th>\n",
       "      <td>0.0001</td>\n",
       "      <td>0.96</td>\n",
       "      <td>(10, 4)</td>\n",
       "      <td>0.0010</td>\n",
       "      <td>0.792876</td>\n",
       "    </tr>\n",
       "    <tr>\n",
       "      <th>19</th>\n",
       "      <td>0.0002</td>\n",
       "      <td>0.95</td>\n",
       "      <td>(10, 4)</td>\n",
       "      <td>0.0010</td>\n",
       "      <td>0.793047</td>\n",
       "    </tr>\n",
       "    <tr>\n",
       "      <th>45</th>\n",
       "      <td>0.0020</td>\n",
       "      <td>0.97</td>\n",
       "      <td>(10, 4)</td>\n",
       "      <td>0.0020</td>\n",
       "      <td>0.793047</td>\n",
       "    </tr>\n",
       "    <tr>\n",
       "      <th>30</th>\n",
       "      <td>0.0020</td>\n",
       "      <td>0.96</td>\n",
       "      <td>(10,)</td>\n",
       "      <td>0.0020</td>\n",
       "      <td>0.793219</td>\n",
       "    </tr>\n",
       "    <tr>\n",
       "      <th>13</th>\n",
       "      <td>0.0020</td>\n",
       "      <td>0.98</td>\n",
       "      <td>(10, 6)</td>\n",
       "      <td>0.0015</td>\n",
       "      <td>0.793391</td>\n",
       "    </tr>\n",
       "    <tr>\n",
       "      <th>9</th>\n",
       "      <td>0.0010</td>\n",
       "      <td>0.96</td>\n",
       "      <td>(10, 3)</td>\n",
       "      <td>0.0010</td>\n",
       "      <td>0.793562</td>\n",
       "    </tr>\n",
       "    <tr>\n",
       "      <th>16</th>\n",
       "      <td>0.0001</td>\n",
       "      <td>0.94</td>\n",
       "      <td>(10, 3)</td>\n",
       "      <td>0.0015</td>\n",
       "      <td>0.793734</td>\n",
       "    </tr>\n",
       "    <tr>\n",
       "      <th>46</th>\n",
       "      <td>0.0010</td>\n",
       "      <td>0.97</td>\n",
       "      <td>(10,)</td>\n",
       "      <td>0.0015</td>\n",
       "      <td>0.793734</td>\n",
       "    </tr>\n",
       "    <tr>\n",
       "      <th>12</th>\n",
       "      <td>0.0001</td>\n",
       "      <td>0.94</td>\n",
       "      <td>(10, 6)</td>\n",
       "      <td>0.0020</td>\n",
       "      <td>0.793906</td>\n",
       "    </tr>\n",
       "  </tbody>\n",
       "</table>\n",
       "</div>"
      ],
      "text/plain": [
       "     alpha  beta_1 hidden_layer_sizes  learning_rate_init    scores\n",
       "37  0.0002    0.96            (10, 5)              0.0010  0.786524\n",
       "48  0.0001    0.95            (10, 5)              0.0010  0.786609\n",
       "4   0.0001    0.98            (10, 3)              0.0010  0.787124\n",
       "6   0.0001    0.98              (10,)              0.0020  0.787382\n",
       "8   0.0001    0.94            (10, 5)              0.0010  0.787639\n",
       "2   0.0010    0.97            (10, 5)              0.0010  0.787983\n",
       "27  0.0001    0.96            (10, 5)              0.0010  0.788326\n",
       "21  0.0010    0.95              (10,)              0.0015  0.788498\n",
       "43  0.0002    0.95            (10, 3)              0.0020  0.788584\n",
       "41  0.0010    0.94            (10, 6)              0.0015  0.788670\n",
       "11  0.0010    0.96            (10, 6)              0.0015  0.788755\n",
       "34  0.0010    0.98            (10, 6)              0.0020  0.788841\n",
       "33  0.0010    0.98            (10, 3)              0.0015  0.789013\n",
       "40  0.0002    0.98              (10,)              0.0015  0.789528\n",
       "42  0.0010    0.98            (10, 5)              0.0020  0.789700\n",
       "7   0.0020    0.96            (10, 5)              0.0020  0.789785\n",
       "10  0.0001    0.97            (10, 5)              0.0020  0.789957\n",
       "26  0.0010    0.97            (10, 3)              0.0020  0.790215\n",
       "36  0.0020    0.98            (10, 5)              0.0020  0.790300\n",
       "18  0.0001    0.94            (10, 4)              0.0010  0.790300\n",
       "1   0.0001    0.95            (10, 5)              0.0020  0.790386\n",
       "31  0.0001    0.96              (10,)              0.0015  0.790472\n",
       "0   0.0020    0.97            (10, 3)              0.0010  0.790558\n",
       "14  0.0020    0.95            (10, 6)              0.0020  0.790558\n",
       "15  0.0010    0.98            (10, 5)              0.0015  0.790730\n",
       "35  0.0010    0.97            (10, 3)              0.0010  0.790730\n",
       "39  0.0002    0.94            (10, 4)              0.0015  0.790730\n",
       "23  0.0002    0.96            (10, 5)              0.0015  0.791159\n",
       "32  0.0002    0.96            (10, 4)              0.0015  0.791159\n",
       "17  0.0002    0.95            (10, 5)              0.0015  0.791330\n",
       "20  0.0002    0.98              (10,)              0.0010  0.791416\n",
       "47  0.0002    0.94            (10, 6)              0.0020  0.791674\n",
       "22  0.0020    0.95            (10, 3)              0.0015  0.791760\n",
       "44  0.0020    0.97            (10, 4)              0.0010  0.791845\n",
       "5   0.0002    0.95            (10, 3)              0.0015  0.791931\n",
       "3   0.0002    0.96            (10, 4)              0.0020  0.791931\n",
       "25  0.0020    0.95            (10, 6)              0.0015  0.792103\n",
       "28  0.0020    0.97            (10, 4)              0.0015  0.792103\n",
       "29  0.0002    0.95              (10,)              0.0020  0.792446\n",
       "24  0.0020    0.98            (10, 6)              0.0010  0.792618\n",
       "38  0.0002    0.98            (10, 6)              0.0015  0.792704\n",
       "49  0.0001    0.96            (10, 4)              0.0010  0.792876\n",
       "19  0.0002    0.95            (10, 4)              0.0010  0.793047\n",
       "45  0.0020    0.97            (10, 4)              0.0020  0.793047\n",
       "30  0.0020    0.96              (10,)              0.0020  0.793219\n",
       "13  0.0020    0.98            (10, 6)              0.0015  0.793391\n",
       "9   0.0010    0.96            (10, 3)              0.0010  0.793562\n",
       "16  0.0001    0.94            (10, 3)              0.0015  0.793734\n",
       "46  0.0010    0.97              (10,)              0.0015  0.793734\n",
       "12  0.0001    0.94            (10, 6)              0.0020  0.793906"
      ]
     },
     "execution_count": 78,
     "metadata": {},
     "output_type": "execute_result"
    }
   ],
   "source": [
    "cv_results.sort_values(\"scores\")"
   ]
  },
  {
   "cell_type": "code",
   "execution_count": null,
   "metadata": {
    "collapsed": true
   },
   "outputs": [],
   "source": []
  },
  {
   "cell_type": "code",
   "execution_count": null,
   "metadata": {
    "collapsed": true
   },
   "outputs": [],
   "source": []
  },
  {
   "cell_type": "code",
   "execution_count": 79,
   "metadata": {},
   "outputs": [
    {
     "name": "stdout",
     "output_type": "stream",
     "text": [
      "0.80008583691\n",
      "Wall time: 18.2 s\n"
     ]
    }
   ],
   "source": [
    "%%time\n",
    "\n",
    "gb = GradientBoostingClassifier(n_estimators=175,  subsample=.5,\n",
    "                                random_state=42)\n",
    "\n",
    "gb_predictions = cross_val_predict(gb, X_clean, y, cv=group_cv, groups=X.argument_group, n_jobs=-1, method='predict_proba')[:,1]\n",
    "\n",
    "print(accuracy(y, gb_predictions))"
   ]
  },
  {
   "cell_type": "code",
   "execution_count": 80,
   "metadata": {},
   "outputs": [
    {
     "name": "stdout",
     "output_type": "stream",
     "text": [
      "0.796137339056\n",
      "Wall time: 23.5 s\n"
     ]
    }
   ],
   "source": [
    "%%time\n",
    "\n",
    "gb = GradientBoostingClassifier(n_estimators=275,  subsample=.4,\n",
    "                                random_state=42)\n",
    "\n",
    "gb_predictions = cross_val_predict(gb, X_clean, y, cv=group_cv, groups=X.argument_group, n_jobs=-1, method='predict_proba')[:,1]\n",
    "\n",
    "print(accuracy(y, gb_predictions))"
   ]
  },
  {
   "cell_type": "code",
   "execution_count": 81,
   "metadata": {},
   "outputs": [
    {
     "name": "stdout",
     "output_type": "stream",
     "text": [
      "0.795793991416\n",
      "Wall time: 20.7 s\n"
     ]
    }
   ],
   "source": [
    "%%time\n",
    "\n",
    "gb = GradientBoostingClassifier(n_estimators=275,  subsample=.3,\n",
    "                                random_state=42)\n",
    "\n",
    "gb_predictions = cross_val_predict(gb, X_clean, y, cv=group_cv, groups=X.argument_group, n_jobs=-1, method='predict_proba')[:,1]\n",
    "\n",
    "print(accuracy(y, gb_predictions))"
   ]
  },
  {
   "cell_type": "code",
   "execution_count": 75,
   "metadata": {},
   "outputs": [
    {
     "data": {
      "text/plain": [
       "GradientBoostingClassifier(criterion='friedman_mse', init=None,\n",
       "              learning_rate=0.1, loss='deviance', max_depth=3,\n",
       "              max_features=None, max_leaf_nodes=None,\n",
       "              min_impurity_split=1e-07, min_samples_leaf=1,\n",
       "              min_samples_split=2, min_weight_fraction_leaf=0.0,\n",
       "              n_estimators=175, presort='auto', random_state=42,\n",
       "              subsample=0.66, verbose=0, warm_start=False)"
      ]
     },
     "execution_count": 75,
     "metadata": {},
     "output_type": "execute_result"
    }
   ],
   "source": [
    "gb = GradientBoostingClassifier(n_estimators=175, subsample=.66,\n",
    "                                random_state=42)\n",
    "\n",
    "gb.fit(X_clean, y)"
   ]
  },
  {
   "cell_type": "code",
   "execution_count": 77,
   "metadata": {},
   "outputs": [
    {
     "data": {
      "text/plain": [
       "[<matplotlib.lines.Line2D at 0x18d852927f0>]"
      ]
     },
     "execution_count": 77,
     "metadata": {},
     "output_type": "execute_result"
    },
    {
     "data": {
      "image/png": "[encoded data removed]",
      "text/plain": [
       "<matplotlib.figure.Figure at 0x18d85233fd0>"
      ]
     },
     "metadata": {},
     "output_type": "display_data"
    }
   ],
   "source": [
    "plt.plot(gb.oob_improvement_)"
   ]
  },
  {
   "cell_type": "code",
   "execution_count": 72,
   "metadata": {},
   "outputs": [
    {
     "name": "stdout",
     "output_type": "stream",
     "text": [
      "0.799570815451\n",
      "Wall time: 19.5 s\n"
     ]
    }
   ],
   "source": [
    "%%time\n",
    "\n",
    "gb = GradientBoostingClassifier(n_estimators=175,\n",
    "                                random_state=42)\n",
    "\n",
    "gb_predictions = cross_val_predict(gb, X_clean, y, cv=group_cv, groups=X.argument_group, n_jobs=-1, method='predict_proba')[:,1]\n",
    "\n",
    "print(accuracy(y, gb_predictions))"
   ]
  },
  {
   "cell_type": "code",
   "execution_count": 21,
   "metadata": {},
   "outputs": [
    {
     "name": "stdout",
     "output_type": "stream",
     "text": [
      "Average: 0.7988 +/- 0.11\n",
      "Scores: [ 0.86805556  0.91        0.81651376  0.70881226  0.86797753  0.67370892\n",
      "  0.83755274  0.83211679  0.79207921  0.84563758  0.85869565  0.80177515\n",
      "  0.71260997  0.79768786  0.77866667  0.76510067  0.80139373  0.78723404\n",
      "  0.81341108  0.88157895  0.78587699  0.80182232  0.74670185  0.69491525\n",
      "  0.69248826  0.81861575  0.81132075  0.81460674  0.77695167  0.79916318\n",
      "  0.81879195  0.84986595]\n"
     ]
    }
   ],
   "source": [
    "print(\"Average: %.4f +/- %.2f\" % (scores.mean(), scores.std()*1.96))\n",
    "print(\"Scores:\", scores)\n"
   ]
  },
  {
   "cell_type": "code",
   "execution_count": null,
   "metadata": {
    "collapsed": true
   },
   "outputs": [],
   "source": [
    "pipe.fit(X, y)"
   ]
  },
  {
   "cell_type": "code",
   "execution_count": null,
   "metadata": {
    "collapsed": true,
    "scrolled": false
   },
   "outputs": [],
   "source": [
    "importances = pipe.named_steps[\"model\"].feature_importances_\n",
    "columns = pipe.named_steps[\"col_names\"].columns\n",
    "\n",
    "pd.Series(importances, index=columns).sort_values().plot(kind=\"barh\", figsize=(8,15))"
   ]
  },
  {
   "cell_type": "code",
   "execution_count": 82,
   "metadata": {
    "collapsed": true
   },
   "outputs": [],
   "source": [
    "all_words = \" \".join(X.a0.unique().tolist())"
   ]
  },
  {
   "cell_type": "code",
   "execution_count": null,
   "metadata": {
    "collapsed": true
   },
   "outputs": [],
   "source": [
    "imp"
   ]
  },
  {
   "cell_type": "code",
   "execution_count": 140,
   "metadata": {},
   "outputs": [
    {
     "data": {
      "text/plain": [
       "'Banning plastic bottled water would be a huge mistake in this very moment. More than a million people in the United States purchase bottled water every day which is helping the economy com out of this recession we are in. maybe not in a big way but every kid of help counts! Bottled water also only makes less then 1&#xof; the worlds wastes and can be recycled! According to the National Association for PET Container resources, PET water bottles are no the most recycled container in curb side programs by weight and by number! <br/> http://www.nestlewaterscorporate.com/bottled_water_things_to_know/Video/index.html?@videoList.featured=31101711001'"
      ]
     },
     "execution_count": 140,
     "metadata": {},
     "output_type": "execute_result"
    }
   ],
   "source": [
    "temp = X.a0[2]\n",
    "temp"
   ]
  },
  {
   "cell_type": "code",
   "execution_count": 160,
   "metadata": {
    "collapsed": true
   },
   "outputs": [],
   "source": [
    "tags = X.a0_tags.unique()"
   ]
  },
  {
   "cell_type": "code",
   "execution_count": 161,
   "metadata": {
    "collapsed": true
   },
   "outputs": [],
   "source": [
    "from sklearn.feature_extraction.text import TfidfVectorizer"
   ]
  },
  {
   "cell_type": "code",
   "execution_count": 163,
   "metadata": {},
   "outputs": [
    {
     "data": {
      "text/plain": [
       "TfidfVectorizer(analyzer=u'word', binary=False, decode_error=u'strict',\n",
       "        dtype=<type 'numpy.int64'>, encoding=u'utf-8', input=u'content',\n",
       "        lowercase=True, max_df=1.0, max_features=None, min_df=1,\n",
       "        ngram_range=(1, 1), norm=u'l2', preprocessor=None, smooth_idf=True,\n",
       "        stop_words=None, strip_accents=None, sublinear_tf=False,\n",
       "        token_pattern=u'(?u)\\\\b\\\\w\\\\w+\\\\b', tokenizer=None, use_idf=True,\n",
       "        vocabulary=None)"
      ]
     },
     "execution_count": 163,
     "metadata": {},
     "output_type": "execute_result"
    }
   ],
   "source": []
  },
  {
   "cell_type": "code",
   "execution_count": 187,
   "metadata": {
    "collapsed": true
   },
   "outputs": [],
   "source": [
    "class TFIDF(BaseEstimator, TransformerMixin):\n",
    "    def __init__(self, min_df=100):\n",
    "        self.min_df = min_df\n",
    "        \n",
    "    def fit(self, X, y=None):\n",
    "        tags = X.a0_tags.unique()\n",
    "        self.tfidf = TfidfVectorizer(ngram_range=(1,15), \n",
    "                                     min_df=self.min_df)\n",
    "        self.tfidf.fit(tags)\n",
    "        return self\n",
    "    \n",
    "    def transform(self, X, y=None):\n",
    "        a0_vectors = self.tfidf.transform(X.a0_tags).todense()\n",
    "        a1_vectors = self.tfidf.transform(X.a1_tags).todense()\n",
    "        diffs = a0_vectors - a1_vectors\n",
    "        columns = [\"tf\"+str(i) for i in range(diffs.shape[1])]\n",
    "        vectors = pd.DataFrame(data=diffs, columns=columns, index=X.index)\n",
    "        new_data = pd.concat([X, vectors], axis=1)\n",
    "        return new_data"
   ]
  },
  {
   "cell_type": "code",
   "execution_count": 180,
   "metadata": {},
   "outputs": [
    {
     "data": {
      "text/plain": [
       "TfidfVectorizer(analyzer=u'word', binary=False, decode_error=u'strict',\n",
       "        dtype=<type 'numpy.int64'>, encoding=u'utf-8', input=u'content',\n",
       "        lowercase=True, max_df=1.0, max_features=None, min_df=100,\n",
       "        ngram_range=(1, 15), norm=u'l2', preprocessor=None,\n",
       "        smooth_idf=True, stop_words=None, strip_accents=None,\n",
       "        sublinear_tf=False, token_pattern=u'(?u)\\\\b\\\\w\\\\w+\\\\b',\n",
       "        tokenizer=None, use_idf=True, vocabulary=None)"
      ]
     },
     "execution_count": 180,
     "metadata": {},
     "output_type": "execute_result"
    }
   ],
   "source": [
    "tf = TfidfVectorizer(ngram_range=(1,15), \n",
    "                                  min_df=100)\n",
    "tf.fit(tags)"
   ]
  },
  {
   "cell_type": "code",
   "execution_count": 185,
   "metadata": {
    "collapsed": true
   },
   "outputs": [],
   "source": [
    "a0_vectors = tf.transform(X.a0_tags).todense()\n",
    "a1_vectors = tf.transform(X.a1_tags).todense()\n",
    "diffs = a0_vectors - a1_vectors"
   ]
  },
  {
   "cell_type": "code",
   "execution_count": null,
   "metadata": {
    "collapsed": true
   },
   "outputs": [],
   "source": [
    "columns = [\"tf\"+str(i) for i in range(len(X))]"
   ]
  },
  {
   "cell_type": "code",
   "execution_count": 186,
   "metadata": {},
   "outputs": [
    {
     "data": {
      "text/plain": [
       "(11650, 199)"
      ]
     },
     "execution_count": 186,
     "metadata": {},
     "output_type": "execute_result"
    }
   ],
   "source": [
    "diffs.shape"
   ]
  },
  {
   "cell_type": "code",
   "execution_count": 189,
   "metadata": {},
   "outputs": [
    {
     "name": "stdout",
     "output_type": "stream",
     "text": [
      "CPU times: user 19.7 s, sys: 50 ms, total: 19.8 s\n",
      "Wall time: 19.8 s\n"
     ]
    }
   ],
   "source": [
    "%%time\n",
    "tf = TFIDF().fit_transform(X)"
   ]
  },
  {
   "cell_type": "code",
   "execution_count": null,
   "metadata": {
    "collapsed": true
   },
   "outputs": [],
   "source": [
    "tf"
   ]
  },
  {
   "cell_type": "code",
   "execution_count": 176,
   "metadata": {},
   "outputs": [
    {
     "data": {
      "text/plain": [
       "{u'cc': 0,\n",
       " u'cc dt': 1,\n",
       " u'cc in': 2,\n",
       " u'cc jj': 3,\n",
       " u'cc nn': 4,\n",
       " u'cc prp': 5,\n",
       " u'cc rb': 6,\n",
       " u'cc vb': 7,\n",
       " u'cd': 8,\n",
       " u'dt': 9,\n",
       " u'dt jj': 10,\n",
       " u'dt jj nn': 11,\n",
       " u'dt jj nn in': 12,\n",
       " u'dt nn': 13,\n",
       " u'dt nn cc': 14,\n",
       " u'dt nn in': 15,\n",
       " u'dt nn in dt': 16,\n",
       " u'dt nn in nn': 17,\n",
       " u'dt nn nn': 18,\n",
       " u'dt nn prp': 19,\n",
       " u'dt nn to': 20,\n",
       " u'dt nn vbz': 21,\n",
       " u'dt nns': 22,\n",
       " u'dt vbz': 23,\n",
       " u'ex': 24,\n",
       " u'in': 25,\n",
       " u'in dt': 26,\n",
       " u'in dt jj': 27,\n",
       " u'in dt jj nn': 28,\n",
       " u'in dt nn': 29,\n",
       " u'in dt nn in': 30,\n",
       " u'in dt nns': 31,\n",
       " u'in in': 32,\n",
       " u'in jj': 33,\n",
       " u'in jj nn': 34,\n",
       " u'in nn': 35,\n",
       " u'in nn cc': 36,\n",
       " u'in nn in': 37,\n",
       " u'in nnp': 38,\n",
       " u'in nns': 39,\n",
       " u'in prp': 40,\n",
       " u'in prp md': 41,\n",
       " u'in prp nn': 42,\n",
       " u'in prp vbp': 43,\n",
       " u'in prp vbz': 44,\n",
       " u'in vbg': 45,\n",
       " u'jj': 46,\n",
       " u'jj cc': 47,\n",
       " u'jj in': 48,\n",
       " u'jj jj': 49,\n",
       " u'jj nn': 50,\n",
       " u'jj nn cc': 51,\n",
       " u'jj nn in': 52,\n",
       " u'jj nn nn': 53,\n",
       " u'jj nn prp': 54,\n",
       " u'jj nn vbz': 55,\n",
       " u'jj nnp': 56,\n",
       " u'jj nns': 57,\n",
       " u'jj nns in': 58,\n",
       " u'jj prp': 59,\n",
       " u'jj to': 60,\n",
       " u'jj to vb': 61,\n",
       " u'jjr': 62,\n",
       " u'jjr in': 63,\n",
       " u'jjs': 64,\n",
       " u'md': 65,\n",
       " u'md rb': 66,\n",
       " u'md rb vb': 67,\n",
       " u'md vb': 68,\n",
       " u'md vb dt': 69,\n",
       " u'md vb prp': 70,\n",
       " u'nn': 71,\n",
       " u'nn cc': 72,\n",
       " u'nn cc nn': 73,\n",
       " u'nn cc prp': 74,\n",
       " u'nn dt': 75,\n",
       " u'nn in': 76,\n",
       " u'nn in dt': 77,\n",
       " u'nn in dt nn': 78,\n",
       " u'nn in nn': 79,\n",
       " u'nn in prp': 80,\n",
       " u'nn jj': 81,\n",
       " u'nn md': 82,\n",
       " u'nn md vb': 83,\n",
       " u'nn nn': 84,\n",
       " u'nn nn in': 85,\n",
       " u'nn nnp': 86,\n",
       " u'nn nns': 87,\n",
       " u'nn prp': 88,\n",
       " u'nn prp md': 89,\n",
       " u'nn prp vbp': 90,\n",
       " u'nn rb': 91,\n",
       " u'nn to': 92,\n",
       " u'nn to vb': 93,\n",
       " u'nn vbd': 94,\n",
       " u'nn vbp': 95,\n",
       " u'nn vbz': 96,\n",
       " u'nn vbz rb': 97,\n",
       " u'nn wdt': 98,\n",
       " u'nnp': 99,\n",
       " u'nnp in': 100,\n",
       " u'nnp nn': 101,\n",
       " u'nnp nnp': 102,\n",
       " u'nnp vbz': 103,\n",
       " u'nns': 104,\n",
       " u'nns cc': 105,\n",
       " u'nns in': 106,\n",
       " u'nns in dt': 107,\n",
       " u'nns prp': 108,\n",
       " u'nns rb': 109,\n",
       " u'nns vbp': 110,\n",
       " u'prp': 111,\n",
       " u'prp in': 112,\n",
       " u'prp jj': 113,\n",
       " u'prp md': 114,\n",
       " u'prp md rb': 115,\n",
       " u'prp md rb vb': 116,\n",
       " u'prp md vb': 117,\n",
       " u'prp nn': 118,\n",
       " u'prp nns': 119,\n",
       " u'prp rb': 120,\n",
       " u'prp vb': 121,\n",
       " u'prp vbd': 122,\n",
       " u'prp vbp': 123,\n",
       " u'prp vbp dt': 124,\n",
       " u'prp vbp in': 125,\n",
       " u'prp vbp prp': 126,\n",
       " u'prp vbp rb': 127,\n",
       " u'prp vbp to': 128,\n",
       " u'prp vbz': 129,\n",
       " u'prp vbz rb': 130,\n",
       " u'rb': 131,\n",
       " u'rb dt': 132,\n",
       " u'rb in': 133,\n",
       " u'rb in prp': 134,\n",
       " u'rb jj': 135,\n",
       " u'rb prp': 136,\n",
       " u'rb rb': 137,\n",
       " u'rb vb': 138,\n",
       " u'rb vb dt': 139,\n",
       " u'rb vb prp': 140,\n",
       " u'rb vbg': 141,\n",
       " u'rb vbn': 142,\n",
       " u'rb vbp': 143,\n",
       " u'rb vbz': 144,\n",
       " u'rbr': 145,\n",
       " u'rp': 146,\n",
       " u'to': 147,\n",
       " u'to vb': 148,\n",
       " u'to vb dt': 149,\n",
       " u'to vb dt nn': 150,\n",
       " u'to vb in': 151,\n",
       " u'to vb jj': 152,\n",
       " u'to vb prp': 153,\n",
       " u'vb': 154,\n",
       " u'vb dt': 155,\n",
       " u'vb dt jj': 156,\n",
       " u'vb dt jj nn': 157,\n",
       " u'vb dt nn': 158,\n",
       " u'vb in': 159,\n",
       " u'vb in prp': 160,\n",
       " u'vb jj': 161,\n",
       " u'vb nn': 162,\n",
       " u'vb nns': 163,\n",
       " u'vb prp': 164,\n",
       " u'vb rb': 165,\n",
       " u'vb to': 166,\n",
       " u'vb to vb': 167,\n",
       " u'vb vbn': 168,\n",
       " u'vbd': 169,\n",
       " u'vbd dt': 170,\n",
       " u'vbg': 171,\n",
       " u'vbg dt': 172,\n",
       " u'vbg in': 173,\n",
       " u'vbg nn': 174,\n",
       " u'vbn': 175,\n",
       " u'vbn in': 176,\n",
       " u'vbp': 177,\n",
       " u'vbp dt': 178,\n",
       " u'vbp dt nn': 179,\n",
       " u'vbp in': 180,\n",
       " u'vbp jj': 181,\n",
       " u'vbp prp': 182,\n",
       " u'vbp rb': 183,\n",
       " u'vbp rb vb': 184,\n",
       " u'vbp to': 185,\n",
       " u'vbp to vb': 186,\n",
       " u'vbp vbg': 187,\n",
       " u'vbp vbn': 188,\n",
       " u'vbz': 189,\n",
       " u'vbz dt': 190,\n",
       " u'vbz dt nn': 191,\n",
       " u'vbz in': 192,\n",
       " u'vbz jj': 193,\n",
       " u'vbz prp': 194,\n",
       " u'vbz rb': 195,\n",
       " u'wdt': 196,\n",
       " u'wp': 197,\n",
       " u'wrb': 198}"
      ]
     },
     "execution_count": 176,
     "metadata": {},
     "output_type": "execute_result"
    }
   ],
   "source": [
    "tfidf.vocabulary_"
   ]
  },
  {
   "cell_type": "code",
   "execution_count": null,
   "metadata": {
    "collapsed": true
   },
   "outputs": [],
   "source": [
    "!pip install nltk"
   ]
  },
  {
   "cell_type": "code",
   "execution_count": 10,
   "metadata": {},
   "outputs": [
    {
     "name": "stdout",
     "output_type": "stream",
     "text": [
      "[nltk_data] Downloading package punkt to\n",
      "[nltk_data]     C:\\Users\\Sanchez\\AppData\\Roaming\\nltk_data...\n",
      "[nltk_data]   Package punkt is already up-to-date!\n",
      "[nltk_data] Downloading package averaged_perceptron_tagger to\n",
      "[nltk_data]     C:\\Users\\Sanchez\\AppData\\Roaming\\nltk_data...\n",
      "[nltk_data]   Package averaged_perceptron_tagger is already up-to-\n",
      "[nltk_data]       date!\n"
     ]
    },
    {
     "data": {
      "text/plain": [
       "True"
      ]
     },
     "execution_count": 10,
     "metadata": {},
     "output_type": "execute_result"
    }
   ],
   "source": [
    "import nltk\n",
    "nltk.download('punkt')\n",
    "nltk.download('averaged_perceptron_tagger')"
   ]
  }
 ],
 "metadata": {
  "kernelspec": {
   "display_name": "Python 3",
   "language": "python",
   "name": "python3"
  },
  "language_info": {
   "codemirror_mode": {
    "name": "ipython",
    "version": 3
   },
   "file_extension": ".py",
   "mimetype": "text/x-python",
   "name": "python",
   "nbconvert_exporter": "python",
   "pygments_lexer": "ipython3",
   "version": "3.6.1"
  }
 },
 "nbformat": 4,
 "nbformat_minor": 2
}

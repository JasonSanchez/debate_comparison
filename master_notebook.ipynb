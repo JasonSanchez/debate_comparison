{
 "cells": [
  {
   "cell_type": "code",
   "execution_count": 153,
   "metadata": {
    "collapsed": true
   },
   "outputs": [],
   "source": [
    "%matplotlib inline\n",
    "\n",
    "import matplotlib.pyplot as plt\n",
    "from nltk import word_tokenize, pos_tag\n",
    "import pandas as pd\n",
    "import numpy as np\n",
    "from os import listdir\n",
    "from sklearn.metrics import roc_auc_score, accuracy_score\n",
    "from sklearn.ensemble import RandomForestClassifier\n",
    "from sklearn.base import BaseEstimator, TransformerMixin\n",
    "from sklearn.model_selection import LeaveOneGroupOut, cross_val_score\n",
    "from sklearn.pipeline import Pipeline"
   ]
  },
  {
   "cell_type": "markdown",
   "metadata": {},
   "source": [
    "Read in data"
   ]
  },
  {
   "cell_type": "code",
   "execution_count": 2,
   "metadata": {},
   "outputs": [
    {
     "data": {
      "text/html": [
       "<div>\n",
       "<table border=\"1\" class=\"dataframe\">\n",
       "  <thead>\n",
       "    <tr style=\"text-align: right;\">\n",
       "      <th></th>\n",
       "      <th>#id</th>\n",
       "      <th>label</th>\n",
       "      <th>a1</th>\n",
       "      <th>a2</th>\n",
       "      <th>argument_group</th>\n",
       "    </tr>\n",
       "  </thead>\n",
       "  <tbody>\n",
       "    <tr>\n",
       "      <th>0</th>\n",
       "      <td>arg219237_arg219207</td>\n",
       "      <td>a2</td>\n",
       "      <td>jesus loves plastic water bottles, and you can...</td>\n",
       "      <td>Bottled water consumption has grown exponentia...</td>\n",
       "      <td>ban-plastic-water-bottles_no-bad-for-the-econo...</td>\n",
       "    </tr>\n",
       "    <tr>\n",
       "      <th>1</th>\n",
       "      <td>arg219203_arg219206</td>\n",
       "      <td>a2</td>\n",
       "      <td>The American Water companies are Aquafina (Pep...</td>\n",
       "      <td>Americans spend billions on bottled water ever...</td>\n",
       "      <td>ban-plastic-water-bottles_no-bad-for-the-econo...</td>\n",
       "    </tr>\n",
       "    <tr>\n",
       "      <th>2</th>\n",
       "      <td>arg219225_arg219284</td>\n",
       "      <td>a1</td>\n",
       "      <td>Banning plastic bottled water would be a huge ...</td>\n",
       "      <td>God created water bottles for a reason. Becaus...</td>\n",
       "      <td>ban-plastic-water-bottles_no-bad-for-the-econo...</td>\n",
       "    </tr>\n",
       "    <tr>\n",
       "      <th>3</th>\n",
       "      <td>arg219216_arg219207</td>\n",
       "      <td>a2</td>\n",
       "      <td>The water bottles are a safe source of water a...</td>\n",
       "      <td>Bottled water consumption has grown exponentia...</td>\n",
       "      <td>ban-plastic-water-bottles_no-bad-for-the-econo...</td>\n",
       "    </tr>\n",
       "    <tr>\n",
       "      <th>4</th>\n",
       "      <td>arg219207_arg219294</td>\n",
       "      <td>a1</td>\n",
       "      <td>Bottled water consumption has grown exponentia...</td>\n",
       "      <td>If bottled water did not exist, more people wo...</td>\n",
       "      <td>ban-plastic-water-bottles_no-bad-for-the-econo...</td>\n",
       "    </tr>\n",
       "  </tbody>\n",
       "</table>\n",
       "</div>"
      ],
      "text/plain": [
       "                   #id label  \\\n",
       "0  arg219237_arg219207    a2   \n",
       "1  arg219203_arg219206    a2   \n",
       "2  arg219225_arg219284    a1   \n",
       "3  arg219216_arg219207    a2   \n",
       "4  arg219207_arg219294    a1   \n",
       "\n",
       "                                                  a1  \\\n",
       "0  jesus loves plastic water bottles, and you can...   \n",
       "1  The American Water companies are Aquafina (Pep...   \n",
       "2  Banning plastic bottled water would be a huge ...   \n",
       "3  The water bottles are a safe source of water a...   \n",
       "4  Bottled water consumption has grown exponentia...   \n",
       "\n",
       "                                                  a2  \\\n",
       "0  Bottled water consumption has grown exponentia...   \n",
       "1  Americans spend billions on bottled water ever...   \n",
       "2  God created water bottles for a reason. Becaus...   \n",
       "3  Bottled water consumption has grown exponentia...   \n",
       "4  If bottled water did not exist, more people wo...   \n",
       "\n",
       "                                      argument_group  \n",
       "0  ban-plastic-water-bottles_no-bad-for-the-econo...  \n",
       "1  ban-plastic-water-bottles_no-bad-for-the-econo...  \n",
       "2  ban-plastic-water-bottles_no-bad-for-the-econo...  \n",
       "3  ban-plastic-water-bottles_no-bad-for-the-econo...  \n",
       "4  ban-plastic-water-bottles_no-bad-for-the-econo...  "
      ]
     },
     "execution_count": 2,
     "metadata": {},
     "output_type": "execute_result"
    }
   ],
   "source": [
    "path_to_compare_data_1 = \"UKPConvArg1Strict-CSV/\"\n",
    "\n",
    "files = listdir(path_to_compare_data_1)\n",
    "\n",
    "all_data = []\n",
    "\n",
    "for f in files:\n",
    "    path = path_to_compare_data_1 + f\n",
    "    one_argument = pd.read_csv(path, sep=\"\\t\")\n",
    "    one_argument[\"argument_group\"] = f\n",
    "    all_data.append(one_argument)\n",
    "    \n",
    "X_raw = pd.concat(all_data).reset_index(drop=True)\n",
    "X_raw.head()"
   ]
  },
  {
   "cell_type": "code",
   "execution_count": 3,
   "metadata": {},
   "outputs": [
    {
     "data": {
      "text/plain": [
       "0    a2\n",
       "1    a2\n",
       "2    a1\n",
       "3    a2\n",
       "4    a1\n",
       "Name: label, dtype: object"
      ]
     },
     "execution_count": 3,
     "metadata": {},
     "output_type": "execute_result"
    }
   ],
   "source": [
    "y_raw = X_raw.pop(\"label\")\n",
    "y_raw.head()"
   ]
  },
  {
   "cell_type": "markdown",
   "metadata": {},
   "source": [
    "Create base dataset. Make y an integer and rename the arguments to use zero-based indexing."
   ]
  },
  {
   "cell_type": "code",
   "execution_count": 193,
   "metadata": {},
   "outputs": [
    {
     "data": {
      "text/html": [
       "<div>\n",
       "<table border=\"1\" class=\"dataframe\">\n",
       "  <thead>\n",
       "    <tr style=\"text-align: right;\">\n",
       "      <th></th>\n",
       "      <th>a0</th>\n",
       "      <th>a1</th>\n",
       "      <th>argument_group</th>\n",
       "      <th>a0_tags</th>\n",
       "      <th>a1_tags</th>\n",
       "    </tr>\n",
       "  </thead>\n",
       "  <tbody>\n",
       "    <tr>\n",
       "      <th>0</th>\n",
       "      <td>jesus loves plastic water bottles, and you can...</td>\n",
       "      <td>Bottled water consumption has grown exponentia...</td>\n",
       "      <td>ban-plastic-water-bottles_no-bad-for-the-econo...</td>\n",
       "      <td>NN VBZ JJ NN NNS , CC PRP VBP JJ IN DT NN</td>\n",
       "      <td>JJ NN NN VBZ VBN RB IN DT JJ NN TO VB NNS . DT...</td>\n",
       "    </tr>\n",
       "    <tr>\n",
       "      <th>1</th>\n",
       "      <td>The American Water companies are Aquafina (Pep...</td>\n",
       "      <td>Americans spend billions on bottled water ever...</td>\n",
       "      <td>ban-plastic-water-bottles_no-bad-for-the-econo...</td>\n",
       "      <td>DT JJ NNP NNS VBP NNP ( NNP ) , NNP ( NNP ) , ...</td>\n",
       "      <td>NNPS VBP NNS IN JJ NN DT NN . NNP PRP$ NN MD R...</td>\n",
       "    </tr>\n",
       "    <tr>\n",
       "      <th>2</th>\n",
       "      <td>Banning plastic bottled water would be a huge ...</td>\n",
       "      <td>God created water bottles for a reason. Becaus...</td>\n",
       "      <td>ban-plastic-water-bottles_no-bad-for-the-econo...</td>\n",
       "      <td>NNP NN VBD NN MD VB DT JJ NN IN DT RB NN . JJR...</td>\n",
       "      <td>NNP VBD NN NNS IN DT NN . IN PRP$ JJ .</td>\n",
       "    </tr>\n",
       "    <tr>\n",
       "      <th>3</th>\n",
       "      <td>The water bottles are a safe source of water a...</td>\n",
       "      <td>Bottled water consumption has grown exponentia...</td>\n",
       "      <td>ban-plastic-water-bottles_no-bad-for-the-econo...</td>\n",
       "      <td>DT NN NNS VBP DT JJ NN IN NN CC VBZ JJ NN</td>\n",
       "      <td>JJ NN NN VBZ VBN RB IN DT JJ NN TO VB NNS . DT...</td>\n",
       "    </tr>\n",
       "    <tr>\n",
       "      <th>4</th>\n",
       "      <td>Bottled water consumption has grown exponentia...</td>\n",
       "      <td>If bottled water did not exist, more people wo...</td>\n",
       "      <td>ban-plastic-water-bottles_no-bad-for-the-econo...</td>\n",
       "      <td>JJ NN NN VBZ VBN RB IN DT JJ NN TO VB NNS . DT...</td>\n",
       "      <td>IN VBN NN VBD RB VB , JJR NNS MD VB VBG JJ NNS...</td>\n",
       "    </tr>\n",
       "  </tbody>\n",
       "</table>\n",
       "</div>"
      ],
      "text/plain": [
       "                                                  a0  \\\n",
       "0  jesus loves plastic water bottles, and you can...   \n",
       "1  The American Water companies are Aquafina (Pep...   \n",
       "2  Banning plastic bottled water would be a huge ...   \n",
       "3  The water bottles are a safe source of water a...   \n",
       "4  Bottled water consumption has grown exponentia...   \n",
       "\n",
       "                                                  a1  \\\n",
       "0  Bottled water consumption has grown exponentia...   \n",
       "1  Americans spend billions on bottled water ever...   \n",
       "2  God created water bottles for a reason. Becaus...   \n",
       "3  Bottled water consumption has grown exponentia...   \n",
       "4  If bottled water did not exist, more people wo...   \n",
       "\n",
       "                                      argument_group  \\\n",
       "0  ban-plastic-water-bottles_no-bad-for-the-econo...   \n",
       "1  ban-plastic-water-bottles_no-bad-for-the-econo...   \n",
       "2  ban-plastic-water-bottles_no-bad-for-the-econo...   \n",
       "3  ban-plastic-water-bottles_no-bad-for-the-econo...   \n",
       "4  ban-plastic-water-bottles_no-bad-for-the-econo...   \n",
       "\n",
       "                                             a0_tags  \\\n",
       "0          NN VBZ JJ NN NNS , CC PRP VBP JJ IN DT NN   \n",
       "1  DT JJ NNP NNS VBP NNP ( NNP ) , NNP ( NNP ) , ...   \n",
       "2  NNP NN VBD NN MD VB DT JJ NN IN DT RB NN . JJR...   \n",
       "3          DT NN NNS VBP DT JJ NN IN NN CC VBZ JJ NN   \n",
       "4  JJ NN NN VBZ VBN RB IN DT JJ NN TO VB NNS . DT...   \n",
       "\n",
       "                                             a1_tags  \n",
       "0  JJ NN NN VBZ VBN RB IN DT JJ NN TO VB NNS . DT...  \n",
       "1  NNPS VBP NNS IN JJ NN DT NN . NNP PRP$ NN MD R...  \n",
       "2             NNP VBD NN NNS IN DT NN . IN PRP$ JJ .  \n",
       "3  JJ NN NN VBZ VBN RB IN DT JJ NN TO VB NNS . DT...  \n",
       "4  IN VBN NN VBD RB VB , JJR NNS MD VB VBG JJ NNS...  "
      ]
     },
     "execution_count": 193,
     "metadata": {},
     "output_type": "execute_result"
    }
   ],
   "source": [
    "y = (y_raw == \"a2\").astype(int)\n",
    "X = X_raw.drop([\"#id\"], axis=1)\n",
    "X.columns = [\"a0\", \"a1\", \"argument_group\"]\n",
    "\n",
    "def sentence_tags(text):\n",
    "    text = text.decode('utf-8')\n",
    "    tags = pos_tag(word_tokenize(text))\n",
    "    only_tags = [t[1] for t in tags]\n",
    "    return \" \".join(only_tags)\n",
    "\n",
    "X[\"a0_tags\"] = X.a0.apply(sentence_tags)\n",
    "X[\"a1_tags\"] = X.a1.apply(sentence_tags)\n",
    "\n",
    "X.head()"
   ]
  },
  {
   "cell_type": "code",
   "execution_count": 152,
   "metadata": {},
   "outputs": [
    {
     "data": {
      "text/plain": [
       "0    1\n",
       "1    1\n",
       "2    0\n",
       "3    1\n",
       "4    0\n",
       "Name: label, dtype: int64"
      ]
     },
     "execution_count": 152,
     "metadata": {},
     "output_type": "execute_result"
    }
   ],
   "source": [
    "y.head()"
   ]
  },
  {
   "cell_type": "markdown",
   "metadata": {},
   "source": [
    "Build a benchmark model as fast as possible."
   ]
  },
  {
   "cell_type": "code",
   "execution_count": 217,
   "metadata": {},
   "outputs": [],
   "source": [
    "transition_words = set(['similarly', 'foremost', 'presumably', 'moreover', 'however', 'reason', 'otherwise', 'second,', 'still', 'first', 'even', 'ultimately', 'finally', 'therefore', 'addition', 'next', 'also', 'furthermore', 'conclusion', 'third', 'hand', 'another'])\n",
    "misspelled_words = set(['wouldn', 'dont', 'shouldn', 'india', 'firefox', 'didn', 'wouldnt', 'doesnt', 'thier', 'farquhar', 'couldn', 'commited', 'adam', 'theyre', 'sabrejimmy', 'persuit', 'definately', 'shouldnt', 'marrage', 'syona', 'alot', 'beleive', 'donot', 'commen', 'especialy', 'dicipline', 'arguement', 'likley', 'lously', 'havn', 'alcohlic', 'wasnt', 'aint', 'bcoz', 'hace', 'decir', 'planta', 'politian', 'acomplice', 'definetly', 'incestual', 'chasbas', 'soooo', 'coolio', 'hoolio', 'infront', 'creatoinism', 'enviroment', 'hasn', 'becasue', 'farquer', 'xada', 'atrever', 'menos', 'dathu', 'ihfej', 'humano', 'charector', 'blimem', 'shld', 'urself', 'tijkjdrk', 'sholud', 'jarman', 'responsibilily', 'preverted', 'plantas', 'aunque', 'sayin', 'xadgeno', 'imformation', 'xbanico', 'sfjiiytg', 'negleted', 'chupar', 'guil', 'xtklp', 'incharge', 'telvisions', 'telivision', 'igual', 'recursos', 'ushould', 'thik', 'supress', 'querido', 'idioma', 'unforms', 'unatrel', 'cauntious', 'evrybdy', 'bookxx', 'beleifs', 'eles', 'completly', 'isnot', 'beleave', 'beter', 'llaman', 'wdout', 'smoken', 'facr', 'illegaly', 'nowadayz', 'doont', 'somkers', 'somke', 'responsiblity', 'homosapien', 'dissappointed', 'criterium', 'hets', 'doughter', 'posible', 'strategizing', 'succeful', 'probaly', 'atleast', 'beileve', 'vida', 'pero', 'mench', 'playstations', 'niega', 'importhant', 'pensar', 'sentir', 'puede', 'aslong', 'ciggarettes', 'sooooooo', 'ebil', 'sito', 'botherd', 'diegnosedca', 'humanos', 'animales', 'suelen', 'aborto', 'matar', 'bullsh', 'employe', 'evryone', 'benifit', 'enviorment', 'lookin', 'persue', 'diffenrent', 'embroyo', 'undertsand', 'interveiw', 'becouse', 'afterschool', 'diferent', 'highschool', 'alreaddy', 'leagal', 'unpetty', 'themselfs', 'yoursel', 'defenceless', 'absolutley', 'peices', 'advencing', 'isnt', 'inequal', 'instinc', 'succesful', 'insctinc', 'disapointment', 'organisation', 'beemed', 'succeded', 'woulld', 'excuss', 'chil', 'singapura', 'majulah', 'mothernature', 'wannna', 'compulsaryy', 'preggo', 'weren', 'dieases', 'relize', 'coloured', 'actualy', 'expirience', 'itll', 'obecity', 'personhood', 'dosent', 'clases', 'mandortory', 'excersise', 'whloe', 'manditory', 'howzz', 'definatley', 'expirence', 'benifits', 'licence', 'echoworld', 'lieing', 'othr', 'alow', 'overal', 'theri', 'stoping', 'selfes', 'becoz', 'mmorning', 'mustn', 'espeacilly', 'perfomed', 'exersises', 'thankyou', 'dreamt', 'theirself', 'cuhz', 'learnt', 'malay', 'proble', 'wether', 'newscientist', 'evealution', 'makind', 'beleivers', 'argumentum', 'populum', 'extreamly', 'callad', 'beleives', 'scientologists', 'aquire', 'existance', 'addons', 'fanboy', 'realeased', 'wayyyyy', 'pointlessss', 'enititys', 'microsot', 'stylesheets', 'google', 'toolbar', 'phro', 'tohttp', 'evol', 'dinosauria', 'neccisary', 'varifiable', 'usgs', 'envirnment', 'nuff', 'polandspring', 'aspx', 'duboard', 'criters', 'worryz', 'excrament', 'produceing', 'evironment', 'poluted', 'healthywater', 'hypocryte', 'friendsjournal', 'garentee', 'compostable', 'youre', 'serval', 'comfortabley', 'suply', 'nikawater', 'nestlewaterscorporate', 'equis', 'ditrabutions', 'treehugger', 'extremly', 'weve', 'aynrandlexicon', 'flipppin', 'belivers', 'religon', 'biggots', 'athieists', 'besause', 'indepent', 'healp', 'lawl', 'sunday', 'spamming', 'therfore', 'recognise', 'simplier', 'didnt', 'xafsm', 'disputs', 'superbrain', 'politians', 'hitech', 'illitrate', 'literated', 'enought', 'specialy', 'fricken', 'opressed', 'illeteracy', 'toughy', 'somone', 'muder', 'marrie', 'sombody', 'accompalice', 'incase', 'hurst', 'basicly', 'preffer', 'nothong', 'tounges', 'contries', 'forgeting', 'ndians', 'hardwork', 'languags', 'utillised', 'prsns', 'ptential', 'manufactoring', 'dependant', 'alawys', 'violance', 'dissapointed', 'tought', 'figuer', 'msitake', 'arent', 'ooooooooh', 'sush', 'differnce', 'wats', 'aryabhatta', 'chatng', 'debatng', 'partical', 'pottential', 'nuissance', 'nalanda', 'jagah', 'achcha', 'hamara', 'britishers', 'orginal', 'americans', 'rama', 'krishna', 'vishvamitr', 'vishvguru', 'francisco', 'nutjobes', 'certainley', 'needn', 'roomates', 'marraige', 'secuality', 'respecful', 'harrassed', 'veiws', 'centry', 'commiting', 'beacuse', 'adware', 'nobrob', 'enuff', 'preinstall', 'derrrr', 'imho', 'weatherfox', 'apps', 'novanet', 'perfrom', 'popup', 'avaible', 'tooltip', 'spaking', 'saame', 'butthole', 'belifs', 'eachother', 'hackman', 'involed', 'throught', 'defence', 'worng', 'couldnt', 'reponsiblity', 'wong', 'woppen', 'nessasary', 'prenup', 'becuase', 'liklihood', 'couse', 'contriverse', 'accomodate', 'extrem', 'pepole', 'accomodations', 'sucied', 'wakoness', 'absoultly'])\n",
    "slang_words = set(['creep', 'jerk', 'basic', 'wicked', 'diss', 'props', 'unreal', 'dig', 'ripped', 'swole', 'wrecked', 'wasted', 'busted', 'awesome', 'trip', 'cool', 'chilling', 'chill', 'amped', 'blast', 'crush', 'dump', 'geek', 'sick', 'toasted', 'fail', 'epic', 'dunno', 'loser', 'rip', 'off', 'beat', 'bling', 'break', 'cheesy', 'cop', 'out', 'da', 'bomb', 'dope', 'downer', 'fab', 'flake', 'freak', 'disgusting', 'hooked', 'fleet', 'flawless', 'snatched', 'shorty', 'grill', 'hustle', 'grind', 'beef', 'fresh', 'word', 'wack', 'def', 'skeeze', 'ill', 'dough', 'mooch', 'boo', 'baller', 'bromance', 'dawg', 'dude', 'lol', 'ratchet', 'selfie', 'sweet', 'woke', 'neat', 'kidding', 'agame', 'bro', 'cash', 'cop', 'hip', 'jacked', 'hype', 'score', 'trash', 'riled', 'pissed', 'bummer', 'check', 'dead', 'totes'])\n",
    "important_parts_of_speech = [\"vbp\", \"vbp prp\", \"nn nn\", \"to\", \"dt\", \"dt nn\", \"cc\"]\n",
    "\n",
    "\n",
    "def n_general_transitions(x):\n",
    "    words = x.split()\n",
    "    total = 0\n",
    "    for w in words:\n",
    "        if w in transition_words:\n",
    "            total += 1\n",
    "    return total\n",
    "\n",
    "\n",
    "def n_misspelled_words(x):\n",
    "    words = x.split()\n",
    "    total = 0\n",
    "    for w in words:\n",
    "        if w in misspelled_words:\n",
    "            total += 1\n",
    "    return total\n",
    "\n",
    "\n",
    "def n_slang_words(x):\n",
    "    words = x.split()\n",
    "    total = 0\n",
    "    for w in words:\n",
    "        if w in slang_words:\n",
    "            total += 1\n",
    "    return total\n",
    "\n",
    "def percent_unique(x):\n",
    "    words = x.split()\n",
    "    unique = set(words)\n",
    "    percent_unique = len(unique)/len(words)\n",
    "    return percent_unique\n",
    "\n",
    "\n",
    "class TextBasedFeatures(BaseEstimator, TransformerMixin):\n",
    "    def __init__(self):\n",
    "        pass\n",
    "    \n",
    "    def fit(self, X, y):\n",
    "        return self\n",
    "    \n",
    "    def transform(self, X, y=None):\n",
    "        X = X.copy()\n",
    "        a0_raw = X.a0\n",
    "        a1_raw = X.a1\n",
    "        a0_simple = a0_raw.str.lower().str.replace(\"[^a-zA-Z ]\", \"\")\n",
    "        a1_simple = a1_raw.str.lower().str.replace(\"[^a-zA-Z ]\", \"\")\n",
    "        a0 = a0_simple.str\n",
    "        a1 = a1_simple.str\n",
    "        \n",
    "        # a0 features\n",
    "        X[\"characters_a0\"] = a0.len()\n",
    "        X[\"pronoun_counts_a0\"] = a0.count(\" you \") + a0.count(\" i \") + a0.count(\" me \") + a0.count(\" my \")\n",
    "        X[\"certain_lang_counts_a0\"] = a0.count(\" always \") + a0.count(\" never \") + a0.count(\" impossible \")\n",
    "        X[\"uncertain_lang_counts_a0\"] = a0.count(\" believe \") + a0.count(\" think \") + a0.count(\" feel \")\n",
    "        X[\"bold_counts_a0\"] = a0_raw.str.count(\"<br/>\")\n",
    "        X[\"because_counts_a0\"] = a0_raw.str.count(\"because\")\n",
    "        X[\"quote_counts_a0\"] = a0_raw.str.count(\"[\\\"']\")\n",
    "        X[\"comma_counts_a0\"] = a0_raw.str.count(\",\")\n",
    "        X[\"words_a0\"] = a0.count(\" \") + 1\n",
    "        X[\"total_punctuation_a0\"] = a0_raw.str.count(\"[.,?$!:;'\\\"-]\")\n",
    "        X[\"punctuation_percent_a0\"] = X[\"total_punctuation_a0\"]/X[\"characters_a0\"]\n",
    "        X[\"end_of_sentence_punct_counts_a0\"] = a0_raw.str.count(\"[!?.][ \\n]\")\n",
    "        X[\"no_sentence_punctuation_a0\"] = (X[\"end_of_sentence_punct_counts_a0\"]==0).astype(int)\n",
    "        X[\"sentence_counts_a0\"] = X[\"end_of_sentence_punct_counts_a0\"] + X[\"no_sentence_punctuation_a0\"]\n",
    "        X[\"average_sentence_word_len_a0\"] = X[\"words_a0\"]/X[\"sentence_counts_a0\"]\n",
    "        X[\"average_sentence_char_len_a0\"] = X[\"characters_a0\"]/X[\"sentence_counts_a0\"]\n",
    "        X[\"average_word_length_a0\"] = X[\"characters_a0\"]/X[\"words_a0\"]\n",
    "        X[\"n_transitions_a0\"] = a0_simple.apply(n_general_transitions)\n",
    "        X[\"n_misspelled_a0\"] = a0_simple.apply(n_misspelled_words)\n",
    "        X[\"n_slang_words_a0\"] = a0_simple.apply(n_slang_words)\n",
    "        X[\"percent_words_unique_a0\"] = a0_simple.apply(percent_unique)\n",
    "        X[\"first_word_capitalized_a0\"] = a0_raw.apply(lambda x: x[0].isupper()*1)\n",
    "        X[\"n_proper_nouns_a0\"] = a0_raw.str.count(\"[^.!?;] [A-Z]\")\n",
    "        X[\"all_caps_words_a0\"] = a0_raw.str.count(\"[A-Z]+[ .!?]\")\n",
    "        X[\"n_digits_a0\"] = a0_raw.apply(lambda x: sum(1 for c in x if c.isdigit()))\n",
    "        X[\"n_links_a0\"] = a0_raw.str.count(\"http\")\n",
    "        X[\"vbp_a0\"] = X.a0_tags.str.count(\"VBP\")\n",
    "        X[\"vbp_prp_a0\"] = X.a0_tags.str.count(\"VBP PRP\")\n",
    "        X[\"nn_nn_a0\"] = X.a0_tags.str.count(\"NN NN\")\n",
    "        X[\"to_a0\"] = X.a0_tags.str.count(\"TO\")\n",
    "        X[\"dt_a0\"] = X.a0_tags.str.count(\"DT\")\n",
    "        X[\"dt_nn_a0\"] = X.a0_tags.str.count(\"DT NN\")\n",
    "        X[\"cc_a0\"] = X.a0_tags.str.count(\"CC\")\n",
    "        \n",
    "        # a1 features\n",
    "        X[\"characters_a1\"] = a1.len()\n",
    "        X[\"pronoun_counts_a1\"] = a1.count(\" you \") + a1.count(\" i \") + a1.count(\" me \") + a1.count(\" my \")\n",
    "        X[\"certain_lang_counts_a1\"] = a1.count(\" always \") + a1.count(\" never \") + a1.count(\" impossible \")\n",
    "        X[\"uncertain_lang_counts_a1\"] = a1.count(\" believe \") + a1.count(\" think \") + a1.count(\" feel \")\n",
    "        X[\"bold_counts_a1\"] = a1_raw.str.count(\"<br/>\")\n",
    "        X[\"because_counts_a1\"] = a1_raw.str.count(\"because\")\n",
    "        X[\"quote_counts_a1\"] = a1_raw.str.count(\"[\\\"']\")\n",
    "        X[\"comma_counts_a1\"] = a1_raw.str.count(\",\")\n",
    "        X[\"words_a1\"] = a1.count(\" \") + 1\n",
    "        X[\"total_punctuation_a1\"] = a1_raw.str.count(\"[.,?$!:;'\\\"-]\")\n",
    "        X[\"punctuation_percent_a1\"] = X[\"total_punctuation_a1\"]/X[\"characters_a1\"]\n",
    "        X[\"end_of_sentence_punct_counts_a1\"] = a1_raw.str.count(\"[!?.][ \\n]\")\n",
    "        X[\"no_sentence_punctuation_a1\"] = (X[\"end_of_sentence_punct_counts_a1\"]==0).astype(int)\n",
    "        X[\"sentence_counts_a1\"] = X[\"end_of_sentence_punct_counts_a1\"] + X[\"no_sentence_punctuation_a1\"]\n",
    "        X[\"average_sentence_word_len_a1\"] = X[\"words_a1\"]/X[\"sentence_counts_a1\"]\n",
    "        X[\"average_sentence_char_len_a1\"] = X[\"characters_a1\"]/X[\"sentence_counts_a1\"]\n",
    "        X[\"average_word_length_a1\"] = X[\"characters_a1\"]/X[\"words_a1\"]\n",
    "        X[\"n_transitions_a1\"] = a1_simple.apply(n_general_transitions)\n",
    "        X[\"n_misspelled_a1\"] = a1_simple.apply(n_misspelled_words)\n",
    "        X[\"n_slang_words_a1\"] = a1_simple.apply(n_slang_words)\n",
    "        X[\"percent_words_unique_a1\"] = a1_simple.apply(percent_unique)\n",
    "        X[\"first_word_capitalized_a1\"] = a1_raw.apply(lambda x: x[0].isupper()*1)\n",
    "        X[\"n_proper_nouns_a1\"] = a1_raw.str.count(\"[^.!?;] [A-Z]\")\n",
    "        X[\"all_caps_words_a1\"] = a1_raw.str.count(\"[A-Z]+[ .!?]\")\n",
    "        X[\"n_digits_a1\"] = a1_raw.apply(lambda x: sum(1 for c in x if c.isdigit()))\n",
    "        X[\"n_links_a1\"] = a1_raw.str.count(\"http\")\n",
    "        X[\"vbp_a1\"] = X.a1_tags.str.count(\"VBP\")\n",
    "        X[\"vbp_prp_a1\"] = X.a1_tags.str.count(\"VBP PRP\")\n",
    "        X[\"nn_nn_a1\"] = X.a1_tags.str.count(\"NN NN\")\n",
    "        X[\"to_a1\"] = X.a1_tags.str.count(\"TO\")\n",
    "        X[\"dt_a1\"] = X.a1_tags.str.count(\"DT\")\n",
    "        X[\"dt_nn_a1\"] = X.a1_tags.str.count(\"DT NN\")\n",
    "        X[\"cc_a1\"] = X.a1_tags.str.count(\"CC\")\n",
    "        \n",
    "        # diff features\n",
    "        X[\"character_diff\"] = X[\"characters_a0\"] - X[\"characters_a1\"]\n",
    "        X[\"character_diff_percent\"] = X[\"character_diff\"]/X[\"characters_a1\"]\n",
    "        X[\"pronoun_count_diff\"] = X[\"pronoun_counts_a0\"] - X[\"pronoun_counts_a1\"]\n",
    "        X[\"certain_language_diff\"] = X[\"certain_lang_counts_a0\"] - X[\"certain_lang_counts_a1\"]\n",
    "        X[\"uncertain_language_diff\"] = X[\"uncertain_lang_counts_a0\"] - X[\"uncertain_lang_counts_a1\"]\n",
    "        X[\"bold_counts_diff\"] = X[\"bold_counts_a0\"] - X[\"bold_counts_a1\"]\n",
    "        X[\"because_counts_diff\"] = X[\"because_counts_a0\"] - X[\"because_counts_a1\"]\n",
    "        X[\"quote_counts_diff\"] = X[\"quote_counts_a0\"] - X[\"quote_counts_a1\"]\n",
    "        X[\"comma_counts_diff\"] = X[\"comma_counts_a0\"] - X[\"comma_counts_a1\"]\n",
    "        X[\"words_diff\"] = X[\"words_a0\"] - X[\"words_a1\"]\n",
    "        X[\"words_diff_percent\"] = X[\"words_diff\"]/X[\"words_a1\"]\n",
    "        X[\"punctuation_percent_diff\"] = X[\"punctuation_percent_a0\"] - X[\"punctuation_percent_a1\"]\n",
    "        X[\"punctuation_percent_diff_percent\"] = X[\"punctuation_percent_diff\"]/(X[\"punctuation_percent_a1\"] + 1)\n",
    "        X[\"no_sentence_punctuation_diff\"] = X[\"no_sentence_punctuation_a0\"] - X[\"no_sentence_punctuation_a1\"]\n",
    "        X[\"sentence_diff\"] = X[\"sentence_counts_a0\"] - X[\"sentence_counts_a1\"]\n",
    "        X[\"average_sentence_word_len_diff\"] = X[\"average_sentence_word_len_a0\"] - X[\"average_sentence_word_len_a1\"]\n",
    "        X[\"average_sentence_char_len_diff\"] = X[\"average_sentence_char_len_a0\"] - X[\"average_sentence_char_len_a1\"]\n",
    "        X[\"average_word_length_diff\"] = X[\"average_word_length_a0\"] - X[\"average_word_length_a1\"]\n",
    "        X[\"average_word_length_diff_percent\"] = X[\"average_word_length_diff\"]/X[\"average_word_length_a1\"]\n",
    "        X[\"n_transitions_diff\"] = X[\"n_transitions_a0\"] - X[\"n_transitions_a1\"]\n",
    "        X[\"n_misspelled_diff\"] = X[\"n_misspelled_a0\"] - X[\"n_misspelled_a1\"]\n",
    "        X[\"n_slang_diff\"] = X[\"n_slang_words_a0\"] - X[\"n_slang_words_a1\"]\n",
    "        X[\"percent_words_unique_diff\"] = X[\"percent_words_unique_a0\"] - X[\"percent_words_unique_a1\"]\n",
    "        X[\"first_word_cap_diff\"] = X[\"first_word_capitalized_a0\"] - X[\"first_word_capitalized_a1\"]\n",
    "        X[\"n_proper_nouns_diff\"] = X[\"n_proper_nouns_a0\"] - X[\"n_proper_nouns_a1\"]\n",
    "        X[\"all_caps_words_diff\"] = X[\"all_caps_words_a0\"] - X[\"all_caps_words_a1\"]\n",
    "        X[\"n_digits_diff\"] = X[\"n_digits_a0\"] - X[\"n_digits_a1\"]\n",
    "        X[\"n_links_diff\"] = X[\"n_links_a0\"] - X[\"n_links_a1\"]\n",
    "        X[\"vbp_diff\"] = X[\"vbp_a0\"] - X[\"vbp_a1\"]\n",
    "        X[\"vbp_prp_diff\"] = X[\"vbp_prp_a0\"] - X[\"vbp_prp_a1\"]\n",
    "        X[\"nn_nn_diff\"] = X[\"nn_nn_a0\"] - X[\"nn_nn_a1\"]\n",
    "        X[\"to_diff\"] = X[\"to_a0\"] - X[\"to_a1\"]\n",
    "        X[\"dt_diff\"] = X[\"dt_a0\"] - X[\"dt_a1\"]\n",
    "        X[\"dt_nn_diff\"] = X[\"dt_nn_a0\"] - X[\"dt_nn_a1\"]\n",
    "        X[\"cc_diff\"] = X[\"cc_a0\"] - X[\"cc_a1\"]       \n",
    "        return X\n",
    "\n",
    "    \n",
    "class KeepNumeric(BaseEstimator, TransformerMixin):\n",
    "    def __init__(self):\n",
    "        pass\n",
    "    \n",
    "    def fit(self, X, y=None):\n",
    "        self.numeric_columns = X.dtypes[X.dtypes != \"object\"].index.tolist()\n",
    "        return self\n",
    "        \n",
    "    def transform(self, X, y=None):\n",
    "        return X[self.numeric_columns]\n",
    "\n",
    "    \n",
    "class OnlyDiffs(BaseEstimator, TransformerMixin):\n",
    "    def __init__(self, on=True):\n",
    "        self.on = on\n",
    "    \n",
    "    def fit(self, X, y=None):\n",
    "        return self\n",
    "    \n",
    "    def transform(self, X, y=None):\n",
    "        if self.on:\n",
    "            diff_cols = [c for c in X.columns if \"diff\" in c]\n",
    "            other_cols = [\"a0_tags\", \"a1_tags\"]\n",
    "            return X[diff_cols+other_cols]\n",
    "        else:\n",
    "            return X\n",
    "    \n",
    "\n",
    "class ColNames(BaseEstimator, TransformerMixin):\n",
    "    def __init__(self):\n",
    "        pass\n",
    "    \n",
    "    def fit(self, X, y=None):\n",
    "        self.columns = X.columns\n",
    "        return self\n",
    "    \n",
    "    def transform(self, X):\n",
    "        return X"
   ]
  },
  {
   "cell_type": "code",
   "execution_count": 218,
   "metadata": {},
   "outputs": [
    {
     "data": {
      "text/plain": [
       "32"
      ]
     },
     "execution_count": 218,
     "metadata": {},
     "output_type": "execute_result"
    }
   ],
   "source": [
    "group_cv = LeaveOneGroupOut()\n",
    "group_cv.get_n_splits(X, y, X.argument_group)"
   ]
  },
  {
   "cell_type": "code",
   "execution_count": 219,
   "metadata": {},
   "outputs": [
    {
     "name": "stdout",
     "output_type": "stream",
     "text": [
      "CPU times: user 1.78 s, sys: 460 ms, total: 2.24 s\n",
      "Wall time: 1min 14s\n"
     ]
    }
   ],
   "source": [
    "%%time\n",
    "model = RandomForestClassifier(n_estimators=100,\n",
    "                               n_jobs=-1,\n",
    "                               random_state=42)\n",
    "\n",
    "steps = [(\"simple_features\", TextBasedFeatures()),\n",
    "         (\"only_diff_columns\", OnlyDiffs(on=True)),\n",
    "         (\"keep_numeric_only\", KeepNumeric()),\n",
    "         (\"col_names\", ColNames()),\n",
    "         (\"model\", model)]\n",
    "\n",
    "pipe = Pipeline(steps)\n",
    "\n",
    "scores = cross_val_score(pipe, X, y, cv=group_cv, groups=X.argument_group, scoring=\"accuracy\", n_jobs=-1)"
   ]
  },
  {
   "cell_type": "code",
   "execution_count": 226,
   "metadata": {},
   "outputs": [
    {
     "name": "stdout",
     "output_type": "stream",
     "text": [
      "CPU times: user 1.98 s, sys: 20 ms, total: 2 s\n",
      "Wall time: 2.02 s\n"
     ]
    }
   ],
   "source": [
    "%%time\n",
    "\n",
    "steps = [(\"simple_features\", TextBasedFeatures()),\n",
    "         (\"only_diff_columns\", OnlyDiffs(on=True)),\n",
    "         (\"keep_numeric_only\", KeepNumeric()),\n",
    "         (\"col_names\", ColNames())]\n",
    "\n",
    "pipe = Pipeline(steps)\n",
    "\n",
    "X_clean = pipe.fit_transform(X, y)"
   ]
  },
  {
   "cell_type": "code",
   "execution_count": 220,
   "metadata": {},
   "outputs": [
    {
     "name": "stdout",
     "output_type": "stream",
     "text": [
      "Average: 0.7959 +/- 0.11\n",
      "('Scores:', array([ 0.86458333,  0.915     ,  0.80733945,  0.72030651,  0.86797753,\n",
      "        0.69014085,  0.8164557 ,  0.81751825,  0.77475248,  0.85011186,\n",
      "        0.85326087,  0.81952663,  0.71260997,  0.79190751,  0.776     ,\n",
      "        0.76733781,  0.79094077,  0.74772036,  0.80758017,  0.86842105,\n",
      "        0.77904328,  0.7904328 ,  0.73087071,  0.68926554,  0.69014085,\n",
      "        0.83054893,  0.81132075,  0.82022472,  0.79182156,  0.81171548,\n",
      "        0.80760626,  0.85522788]))\n"
     ]
    }
   ],
   "source": [
    "print(\"Average: %.4f +/- %.2f\" % (scores.mean(), scores.std()*1.96))\n",
    "print(\"Scores:\", scores)"
   ]
  },
  {
   "cell_type": "code",
   "execution_count": 221,
   "metadata": {},
   "outputs": [
    {
     "data": {
      "text/plain": [
       "Pipeline(steps=[('simple_features', TextBasedFeatures()), ('only_diff_columns', OnlyDiffs(on=True)), ('keep_numeric_only', KeepNumeric()), ('col_names', ColNames()), ('model', RandomForestClassifier(bootstrap=True, class_weight=None, criterion='gini',\n",
       "            max_depth=None, max_features='auto', max_leaf...imators=100, n_jobs=-1, oob_score=False, random_state=42,\n",
       "            verbose=0, warm_start=False))])"
      ]
     },
     "execution_count": 221,
     "metadata": {},
     "output_type": "execute_result"
    }
   ],
   "source": [
    "pipe.fit(X, y)"
   ]
  },
  {
   "cell_type": "code",
   "execution_count": 222,
   "metadata": {
    "scrolled": false
   },
   "outputs": [
    {
     "data": {
      "text/plain": [
       "<matplotlib.axes._subplots.AxesSubplot at 0x7f7478bcbed0>"
      ]
     },
     "execution_count": 222,
     "metadata": {},
     "output_type": "execute_result"
    },
    {
     "data": {
      "image/png": "[encoded data removed]",
      "text/plain": [
       "<matplotlib.figure.Figure at 0x7f7478bd5510>"
      ]
     },
     "metadata": {},
     "output_type": "display_data"
    }
   ],
   "source": [
    "importances = pipe.named_steps[\"model\"].feature_importances_\n",
    "columns = pipe.named_steps[\"col_names\"].columns\n",
    "\n",
    "pd.Series(importances, index=columns).sort_values().plot(kind=\"barh\", figsize=(8,15))"
   ]
  },
  {
   "cell_type": "code",
   "execution_count": 82,
   "metadata": {},
   "outputs": [],
   "source": [
    "all_words = \" \".join(X.a0.unique().tolist())"
   ]
  },
  {
   "cell_type": "code",
   "execution_count": null,
   "metadata": {
    "collapsed": true
   },
   "outputs": [],
   "source": [
    "imp"
   ]
  },
  {
   "cell_type": "code",
   "execution_count": 140,
   "metadata": {},
   "outputs": [
    {
     "data": {
      "text/plain": [
       "'Banning plastic bottled water would be a huge mistake in this very moment. More than a million people in the United States purchase bottled water every day which is helping the economy com out of this recession we are in. maybe not in a big way but every kid of help counts! Bottled water also only makes less then 1&#xof; the worlds wastes and can be recycled! According to the National Association for PET Container resources, PET water bottles are no the most recycled container in curb side programs by weight and by number! <br/> http://www.nestlewaterscorporate.com/bottled_water_things_to_know/Video/index.html?@videoList.featured=31101711001'"
      ]
     },
     "execution_count": 140,
     "metadata": {},
     "output_type": "execute_result"
    }
   ],
   "source": [
    "temp = X.a0[2]\n",
    "temp"
   ]
  },
  {
   "cell_type": "code",
   "execution_count": 160,
   "metadata": {},
   "outputs": [],
   "source": [
    "tags = X.a0_tags.unique()"
   ]
  },
  {
   "cell_type": "code",
   "execution_count": 161,
   "metadata": {
    "collapsed": true
   },
   "outputs": [],
   "source": [
    "from sklearn.feature_extraction.text import TfidfVectorizer"
   ]
  },
  {
   "cell_type": "code",
   "execution_count": 163,
   "metadata": {},
   "outputs": [
    {
     "data": {
      "text/plain": [
       "TfidfVectorizer(analyzer=u'word', binary=False, decode_error=u'strict',\n",
       "        dtype=<type 'numpy.int64'>, encoding=u'utf-8', input=u'content',\n",
       "        lowercase=True, max_df=1.0, max_features=None, min_df=1,\n",
       "        ngram_range=(1, 1), norm=u'l2', preprocessor=None, smooth_idf=True,\n",
       "        stop_words=None, strip_accents=None, sublinear_tf=False,\n",
       "        token_pattern=u'(?u)\\\\b\\\\w\\\\w+\\\\b', tokenizer=None, use_idf=True,\n",
       "        vocabulary=None)"
      ]
     },
     "execution_count": 163,
     "metadata": {},
     "output_type": "execute_result"
    }
   ],
   "source": []
  },
  {
   "cell_type": "code",
   "execution_count": 187,
   "metadata": {},
   "outputs": [],
   "source": [
    "class TFIDF(BaseEstimator, TransformerMixin):\n",
    "    def __init__(self, min_df=100):\n",
    "        self.min_df = min_df\n",
    "        \n",
    "    def fit(self, X, y=None):\n",
    "        tags = X.a0_tags.unique()\n",
    "        self.tfidf = TfidfVectorizer(ngram_range=(1,15), \n",
    "                                     min_df=self.min_df)\n",
    "        self.tfidf.fit(tags)\n",
    "        return self\n",
    "    \n",
    "    def transform(self, X, y=None):\n",
    "        a0_vectors = self.tfidf.transform(X.a0_tags).todense()\n",
    "        a1_vectors = self.tfidf.transform(X.a1_tags).todense()\n",
    "        diffs = a0_vectors - a1_vectors\n",
    "        columns = [\"tf\"+str(i) for i in range(diffs.shape[1])]\n",
    "        vectors = pd.DataFrame(data=diffs, columns=columns, index=X.index)\n",
    "        new_data = pd.concat([X, vectors], axis=1)\n",
    "        return new_data"
   ]
  },
  {
   "cell_type": "code",
   "execution_count": 180,
   "metadata": {},
   "outputs": [
    {
     "data": {
      "text/plain": [
       "TfidfVectorizer(analyzer=u'word', binary=False, decode_error=u'strict',\n",
       "        dtype=<type 'numpy.int64'>, encoding=u'utf-8', input=u'content',\n",
       "        lowercase=True, max_df=1.0, max_features=None, min_df=100,\n",
       "        ngram_range=(1, 15), norm=u'l2', preprocessor=None,\n",
       "        smooth_idf=True, stop_words=None, strip_accents=None,\n",
       "        sublinear_tf=False, token_pattern=u'(?u)\\\\b\\\\w\\\\w+\\\\b',\n",
       "        tokenizer=None, use_idf=True, vocabulary=None)"
      ]
     },
     "execution_count": 180,
     "metadata": {},
     "output_type": "execute_result"
    }
   ],
   "source": [
    "tf = TfidfVectorizer(ngram_range=(1,15), \n",
    "                                  min_df=100)\n",
    "tf.fit(tags)"
   ]
  },
  {
   "cell_type": "code",
   "execution_count": 185,
   "metadata": {},
   "outputs": [],
   "source": [
    "a0_vectors = tf.transform(X.a0_tags).todense()\n",
    "a1_vectors = tf.transform(X.a1_tags).todense()\n",
    "diffs = a0_vectors - a1_vectors"
   ]
  },
  {
   "cell_type": "code",
   "execution_count": null,
   "metadata": {
    "collapsed": true
   },
   "outputs": [],
   "source": [
    "columns = [\"tf\"+str(i) for i in range(len(X))]"
   ]
  },
  {
   "cell_type": "code",
   "execution_count": 186,
   "metadata": {},
   "outputs": [
    {
     "data": {
      "text/plain": [
       "(11650, 199)"
      ]
     },
     "execution_count": 186,
     "metadata": {},
     "output_type": "execute_result"
    }
   ],
   "source": [
    "diffs.shape"
   ]
  },
  {
   "cell_type": "code",
   "execution_count": 189,
   "metadata": {},
   "outputs": [
    {
     "name": "stdout",
     "output_type": "stream",
     "text": [
      "CPU times: user 19.7 s, sys: 50 ms, total: 19.8 s\n",
      "Wall time: 19.8 s\n"
     ]
    }
   ],
   "source": [
    "%%time\n",
    "tf = TFIDF().fit_transform(X)"
   ]
  },
  {
   "cell_type": "code",
   "execution_count": null,
   "metadata": {
    "collapsed": true
   },
   "outputs": [],
   "source": [
    "tf"
   ]
  },
  {
   "cell_type": "code",
   "execution_count": 176,
   "metadata": {},
   "outputs": [
    {
     "data": {
      "text/plain": [
       "{u'cc': 0,\n",
       " u'cc dt': 1,\n",
       " u'cc in': 2,\n",
       " u'cc jj': 3,\n",
       " u'cc nn': 4,\n",
       " u'cc prp': 5,\n",
       " u'cc rb': 6,\n",
       " u'cc vb': 7,\n",
       " u'cd': 8,\n",
       " u'dt': 9,\n",
       " u'dt jj': 10,\n",
       " u'dt jj nn': 11,\n",
       " u'dt jj nn in': 12,\n",
       " u'dt nn': 13,\n",
       " u'dt nn cc': 14,\n",
       " u'dt nn in': 15,\n",
       " u'dt nn in dt': 16,\n",
       " u'dt nn in nn': 17,\n",
       " u'dt nn nn': 18,\n",
       " u'dt nn prp': 19,\n",
       " u'dt nn to': 20,\n",
       " u'dt nn vbz': 21,\n",
       " u'dt nns': 22,\n",
       " u'dt vbz': 23,\n",
       " u'ex': 24,\n",
       " u'in': 25,\n",
       " u'in dt': 26,\n",
       " u'in dt jj': 27,\n",
       " u'in dt jj nn': 28,\n",
       " u'in dt nn': 29,\n",
       " u'in dt nn in': 30,\n",
       " u'in dt nns': 31,\n",
       " u'in in': 32,\n",
       " u'in jj': 33,\n",
       " u'in jj nn': 34,\n",
       " u'in nn': 35,\n",
       " u'in nn cc': 36,\n",
       " u'in nn in': 37,\n",
       " u'in nnp': 38,\n",
       " u'in nns': 39,\n",
       " u'in prp': 40,\n",
       " u'in prp md': 41,\n",
       " u'in prp nn': 42,\n",
       " u'in prp vbp': 43,\n",
       " u'in prp vbz': 44,\n",
       " u'in vbg': 45,\n",
       " u'jj': 46,\n",
       " u'jj cc': 47,\n",
       " u'jj in': 48,\n",
       " u'jj jj': 49,\n",
       " u'jj nn': 50,\n",
       " u'jj nn cc': 51,\n",
       " u'jj nn in': 52,\n",
       " u'jj nn nn': 53,\n",
       " u'jj nn prp': 54,\n",
       " u'jj nn vbz': 55,\n",
       " u'jj nnp': 56,\n",
       " u'jj nns': 57,\n",
       " u'jj nns in': 58,\n",
       " u'jj prp': 59,\n",
       " u'jj to': 60,\n",
       " u'jj to vb': 61,\n",
       " u'jjr': 62,\n",
       " u'jjr in': 63,\n",
       " u'jjs': 64,\n",
       " u'md': 65,\n",
       " u'md rb': 66,\n",
       " u'md rb vb': 67,\n",
       " u'md vb': 68,\n",
       " u'md vb dt': 69,\n",
       " u'md vb prp': 70,\n",
       " u'nn': 71,\n",
       " u'nn cc': 72,\n",
       " u'nn cc nn': 73,\n",
       " u'nn cc prp': 74,\n",
       " u'nn dt': 75,\n",
       " u'nn in': 76,\n",
       " u'nn in dt': 77,\n",
       " u'nn in dt nn': 78,\n",
       " u'nn in nn': 79,\n",
       " u'nn in prp': 80,\n",
       " u'nn jj': 81,\n",
       " u'nn md': 82,\n",
       " u'nn md vb': 83,\n",
       " u'nn nn': 84,\n",
       " u'nn nn in': 85,\n",
       " u'nn nnp': 86,\n",
       " u'nn nns': 87,\n",
       " u'nn prp': 88,\n",
       " u'nn prp md': 89,\n",
       " u'nn prp vbp': 90,\n",
       " u'nn rb': 91,\n",
       " u'nn to': 92,\n",
       " u'nn to vb': 93,\n",
       " u'nn vbd': 94,\n",
       " u'nn vbp': 95,\n",
       " u'nn vbz': 96,\n",
       " u'nn vbz rb': 97,\n",
       " u'nn wdt': 98,\n",
       " u'nnp': 99,\n",
       " u'nnp in': 100,\n",
       " u'nnp nn': 101,\n",
       " u'nnp nnp': 102,\n",
       " u'nnp vbz': 103,\n",
       " u'nns': 104,\n",
       " u'nns cc': 105,\n",
       " u'nns in': 106,\n",
       " u'nns in dt': 107,\n",
       " u'nns prp': 108,\n",
       " u'nns rb': 109,\n",
       " u'nns vbp': 110,\n",
       " u'prp': 111,\n",
       " u'prp in': 112,\n",
       " u'prp jj': 113,\n",
       " u'prp md': 114,\n",
       " u'prp md rb': 115,\n",
       " u'prp md rb vb': 116,\n",
       " u'prp md vb': 117,\n",
       " u'prp nn': 118,\n",
       " u'prp nns': 119,\n",
       " u'prp rb': 120,\n",
       " u'prp vb': 121,\n",
       " u'prp vbd': 122,\n",
       " u'prp vbp': 123,\n",
       " u'prp vbp dt': 124,\n",
       " u'prp vbp in': 125,\n",
       " u'prp vbp prp': 126,\n",
       " u'prp vbp rb': 127,\n",
       " u'prp vbp to': 128,\n",
       " u'prp vbz': 129,\n",
       " u'prp vbz rb': 130,\n",
       " u'rb': 131,\n",
       " u'rb dt': 132,\n",
       " u'rb in': 133,\n",
       " u'rb in prp': 134,\n",
       " u'rb jj': 135,\n",
       " u'rb prp': 136,\n",
       " u'rb rb': 137,\n",
       " u'rb vb': 138,\n",
       " u'rb vb dt': 139,\n",
       " u'rb vb prp': 140,\n",
       " u'rb vbg': 141,\n",
       " u'rb vbn': 142,\n",
       " u'rb vbp': 143,\n",
       " u'rb vbz': 144,\n",
       " u'rbr': 145,\n",
       " u'rp': 146,\n",
       " u'to': 147,\n",
       " u'to vb': 148,\n",
       " u'to vb dt': 149,\n",
       " u'to vb dt nn': 150,\n",
       " u'to vb in': 151,\n",
       " u'to vb jj': 152,\n",
       " u'to vb prp': 153,\n",
       " u'vb': 154,\n",
       " u'vb dt': 155,\n",
       " u'vb dt jj': 156,\n",
       " u'vb dt jj nn': 157,\n",
       " u'vb dt nn': 158,\n",
       " u'vb in': 159,\n",
       " u'vb in prp': 160,\n",
       " u'vb jj': 161,\n",
       " u'vb nn': 162,\n",
       " u'vb nns': 163,\n",
       " u'vb prp': 164,\n",
       " u'vb rb': 165,\n",
       " u'vb to': 166,\n",
       " u'vb to vb': 167,\n",
       " u'vb vbn': 168,\n",
       " u'vbd': 169,\n",
       " u'vbd dt': 170,\n",
       " u'vbg': 171,\n",
       " u'vbg dt': 172,\n",
       " u'vbg in': 173,\n",
       " u'vbg nn': 174,\n",
       " u'vbn': 175,\n",
       " u'vbn in': 176,\n",
       " u'vbp': 177,\n",
       " u'vbp dt': 178,\n",
       " u'vbp dt nn': 179,\n",
       " u'vbp in': 180,\n",
       " u'vbp jj': 181,\n",
       " u'vbp prp': 182,\n",
       " u'vbp rb': 183,\n",
       " u'vbp rb vb': 184,\n",
       " u'vbp to': 185,\n",
       " u'vbp to vb': 186,\n",
       " u'vbp vbg': 187,\n",
       " u'vbp vbn': 188,\n",
       " u'vbz': 189,\n",
       " u'vbz dt': 190,\n",
       " u'vbz dt nn': 191,\n",
       " u'vbz in': 192,\n",
       " u'vbz jj': 193,\n",
       " u'vbz prp': 194,\n",
       " u'vbz rb': 195,\n",
       " u'wdt': 196,\n",
       " u'wp': 197,\n",
       " u'wrb': 198}"
      ]
     },
     "execution_count": 176,
     "metadata": {},
     "output_type": "execute_result"
    }
   ],
   "source": [
    "tfidf.vocabulary_"
   ]
  },
  {
   "cell_type": "code",
   "execution_count": null,
   "metadata": {
    "collapsed": true
   },
   "outputs": [],
   "source": [
    "!pip install nltk\n",
    "!nltk.download('punkt')\n",
    "!nltk.download('averaged_perceptron_tagger')"
   ]
  }
 ],
 "metadata": {
  "kernelspec": {
   "display_name": "Python 2",
   "language": "python",
   "name": "python2"
  },
  "language_info": {
   "codemirror_mode": {
    "name": "ipython",
    "version": 2
   },
   "file_extension": ".py",
   "mimetype": "text/x-python",
   "name": "python",
   "nbconvert_exporter": "python",
   "pygments_lexer": "ipython2",
   "version": "2.7.12"
  }
 },
 "nbformat": 4,
 "nbformat_minor": 2
}
